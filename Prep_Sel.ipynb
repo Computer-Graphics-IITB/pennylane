{
 "cells": [
  {
   "cell_type": "code",
   "execution_count": 1,
   "id": "8f938ad2",
   "metadata": {},
   "outputs": [],
   "source": [
    "import pennylane as qml"
   ]
  },
  {
   "cell_type": "code",
   "execution_count": 2,
   "id": "8501d329",
   "metadata": {},
   "outputs": [
    {
     "name": "stdout",
     "output_type": "stream",
     "text": [
      "[[ 0.5  0.   0.5  0. ]\n",
      " [ 0.  -0.5  0.  -0.5]\n",
      " [ 0.5  0.   0.5  0. ]\n",
      " [ 0.  -0.5  0.  -0.5]]\n"
     ]
    }
   ],
   "source": [
    "U1 = qml.prod(qml.PauliX(0), qml.PauliZ(1))\n",
    "U2 = qml.prod(qml.Identity(0), qml.PauliZ(1))\n",
    "\n",
    "U = qml.s_prod(1/2, qml.sum(U1, U2))  # U = 0.5 * (U1 + U2)\n",
    "\n",
    "print(qml.matrix(U))"
   ]
  },
  {
   "cell_type": "code",
   "execution_count": 3,
   "id": "4037552d",
   "metadata": {},
   "outputs": [
    {
     "name": "stdout",
     "output_type": "stream",
     "text": [
      "Prep_Register: ──H─╭○───╭●────H†─┤  State\n",
      "            0: ────├X@Z─├I@Z─────┤  State\n",
      "            1: ────╰X@Z─╰I@Z─────┤  State\n",
      "\n",
      " [[ 0.5+0.j  0. +0.j  0.5+0.j  0. +0.j]\n",
      " [ 0. +0.j -0.5+0.j  0. +0.j -0.5+0.j]\n",
      " [ 0.5+0.j  0. +0.j  0.5+0.j  0. +0.j]\n",
      " [ 0. +0.j -0.5+0.j  0. +0.j -0.5+0.j]]\n",
      "\n",
      " True\n"
     ]
    }
   ],
   "source": [
    "import numpy as np\n",
    "# Set up core operators: \n",
    "\n",
    "def Prep():\n",
    "    qml.Hadamard(wires='Prep_Register')\n",
    "    \n",
    "    \n",
    "def Sel():\n",
    "    qml.ctrl(U1, control=['Prep_Register'], control_values=0)\n",
    "    qml.ctrl(U2, control=['Prep_Register'], control_values=1)\n",
    "\n",
    "\n",
    "# Test: \n",
    "dev = qml.device(\"default.qubit\", wires=['Prep_Register', 0, 1])\n",
    "\n",
    "@qml.qnode(dev)\n",
    "def circ():\n",
    "    Prep()\n",
    "    Sel()\n",
    "    qml.adjoint(Prep)()\n",
    "    \n",
    "    return qml.state()\n",
    "\n",
    "top_left_block = qml.matrix(circ)()[:4, :4]\n",
    "\n",
    "print(qml.draw(circ)())\n",
    "print(\"\\n\", top_left_block)\n",
    "\n",
    "print(\"\\n\", np.allclose(top_left_block, qml.matrix(U)))"
   ]
  },
  {
   "cell_type": "code",
   "execution_count": null,
   "id": "83cef99a",
   "metadata": {},
   "outputs": [],
   "source": []
  },
  {
   "cell_type": "code",
   "execution_count": null,
   "id": "b594e11b",
   "metadata": {},
   "outputs": [],
   "source": []
  }
 ],
 "metadata": {
  "kernelspec": {
   "display_name": "Python 3 (ipykernel)",
   "language": "python",
   "name": "python3"
  },
  "language_info": {
   "codemirror_mode": {
    "name": "ipython",
    "version": 3
   },
   "file_extension": ".py",
   "mimetype": "text/x-python",
   "name": "python",
   "nbconvert_exporter": "python",
   "pygments_lexer": "ipython3",
   "version": "3.9.13"
  }
 },
 "nbformat": 4,
 "nbformat_minor": 5
}
