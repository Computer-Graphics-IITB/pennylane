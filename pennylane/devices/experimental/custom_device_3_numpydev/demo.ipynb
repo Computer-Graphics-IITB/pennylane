{
 "cells": [
  {
   "cell_type": "code",
   "execution_count": 1,
   "metadata": {},
   "outputs": [],
   "source": [
    "import pennylane as qml\n",
    "from pennylane import numpy as np\n",
    "from pennylane.devices.experimental import TestDevicePythonSim, TestDeviceMPSSim\n",
    "from pennylane.devices.experimental import PlainNumpySimulator, NumpyMPSSimulator\n",
    "\n",
    "import matplotlib.pyplot as plt\n",
    "from time import time"
   ]
  },
  {
   "attachments": {},
   "cell_type": "markdown",
   "metadata": {},
   "source": [
    "# Simulator execution"
   ]
  },
  {
   "cell_type": "code",
   "execution_count": 2,
   "metadata": {},
   "outputs": [],
   "source": [
    "sim = NumpyMPSSimulator()\n",
    "check_sim = PlainNumpySimulator()\n",
    "ops = [qml.Hadamard(0) @ qml.PauliX(1)]\n",
    "meas = [qml.expval(qml.PauliX(0))]\n",
    "qs = qml.tape.QuantumScript(ops=ops, measurements=meas)"
   ]
  },
  {
   "cell_type": "code",
   "execution_count": 3,
   "metadata": {},
   "outputs": [
    {
     "name": "stdout",
     "output_type": "stream",
     "text": [
      "bond dimension = 1\n"
     ]
    },
    {
     "data": {
      "text/plain": [
       "(array(1.), 0.9999999999999996)"
      ]
     },
     "execution_count": 3,
     "metadata": {},
     "output_type": "execute_result"
    }
   ],
   "source": [
    "sim.execute(qs), check_sim.execute(qs)"
   ]
  },
  {
   "attachments": {},
   "cell_type": "markdown",
   "metadata": {},
   "source": [
    "# Device"
   ]
  },
  {
   "cell_type": "code",
   "execution_count": 4,
   "metadata": {},
   "outputs": [],
   "source": [
    "dev = TestDeviceMPSSim()\n",
    "dev_check = TestDevicePythonSim()"
   ]
  },
  {
   "cell_type": "code",
   "execution_count": 5,
   "metadata": {},
   "outputs": [
    {
     "name": "stdout",
     "output_type": "stream",
     "text": [
      "bond dimension = 2\n"
     ]
    },
    {
     "data": {
      "text/plain": [
       "(array(0.02950279), 0.02950279191917826)"
      ]
     },
     "execution_count": 5,
     "metadata": {},
     "output_type": "execute_result"
    }
   ],
   "source": [
    "a = [0.1, 0.2, 0.3]\n",
    "ops = [qml.RX(a[0], wires=0),\n",
    "    qml.CNOT(wires=(0,1)),\n",
    "    qml.RY(a[1], wires=1),\n",
    "    qml.RZ(a[2], wires=1)]\n",
    "measurement = qml.expval(qml.PauliX(0) @ qml.PauliX(1))\n",
    "qs = qml.tape.QuantumScript(ops, [measurement])\n",
    "\n",
    "dev.execute(qs), dev_check.execute(qs)"
   ]
  },
  {
   "attachments": {},
   "cell_type": "markdown",
   "metadata": {},
   "source": [
    "# Benchmark"
   ]
  },
  {
   "attachments": {},
   "cell_type": "markdown",
   "metadata": {},
   "source": [
    "## Compare with full state vector simulator"
   ]
  },
  {
   "cell_type": "code",
   "execution_count": 6,
   "metadata": {},
   "outputs": [],
   "source": [
    "def mps2vec(state):\n",
    "    \"\"\"\n",
    "    Transform an MPS state into a full vector\n",
    "\n",
    "    Used for comparing results with full state vector simulations\n",
    "    \"\"\"\n",
    "    Bs = state.Bs\n",
    "    vec = Bs[0]\n",
    "    for i in range(1, state.L):\n",
    "        vec = np.tensordot(vec, Bs[i], 1)\n",
    "    return vec.reshape(-1)"
   ]
  },
  {
   "cell_type": "code",
   "execution_count": 7,
   "metadata": {},
   "outputs": [
    {
     "name": "stdout",
     "output_type": "stream",
     "text": [
      "bond dimension = 4\n",
      "n_wires = 5, depth = 10, chi = 50, exec time mps: 0.04217, full state 0.02000\n",
      "bond dimension = 4\n",
      "n_wires = 5, depth = 10, chi = 75, exec time mps: 0.04188, full state 0.02000\n",
      "bond dimension = 4\n",
      "n_wires = 5, depth = 10, chi = 100, exec time mps: 0.03650, full state 0.02000\n",
      "bond dimension = 4\n",
      "n_wires = 5, depth = 10, chi = 150, exec time mps: 0.03650, full state 0.02000\n",
      "bond dimension = 4\n",
      "n_wires = 5, depth = 10, chi = 200, exec time mps: 0.03952, full state 0.02000\n",
      "bond dimension = 8\n",
      "n_wires = 6, depth = 10, chi = 50, exec time mps: 0.05578, full state 0.02039\n",
      "bond dimension = 8\n",
      "n_wires = 6, depth = 10, chi = 75, exec time mps: 0.05117, full state 0.02039\n",
      "bond dimension = 8\n",
      "n_wires = 6, depth = 10, chi = 100, exec time mps: 0.04885, full state 0.02039\n",
      "bond dimension = 8\n",
      "n_wires = 6, depth = 10, chi = 150, exec time mps: 0.04750, full state 0.02039\n",
      "bond dimension = 8\n",
      "n_wires = 6, depth = 10, chi = 200, exec time mps: 0.04422, full state 0.02039\n",
      "bond dimension = 8\n",
      "n_wires = 7, depth = 10, chi = 50, exec time mps: 0.06038, full state 0.02979\n",
      "bond dimension = 8\n",
      "n_wires = 7, depth = 10, chi = 75, exec time mps: 0.05686, full state 0.02979\n",
      "bond dimension = 8\n",
      "n_wires = 7, depth = 10, chi = 100, exec time mps: 0.05230, full state 0.02979\n",
      "bond dimension = 8\n",
      "n_wires = 7, depth = 10, chi = 150, exec time mps: 0.05513, full state 0.02979\n",
      "bond dimension = 8\n",
      "n_wires = 7, depth = 10, chi = 200, exec time mps: 0.05824, full state 0.02979\n",
      "bond dimension = 16\n",
      "n_wires = 8, depth = 10, chi = 50, exec time mps: 0.06387, full state 0.03692\n",
      "bond dimension = 16\n",
      "n_wires = 8, depth = 10, chi = 75, exec time mps: 0.06948, full state 0.03692\n",
      "bond dimension = 16\n",
      "n_wires = 8, depth = 10, chi = 100, exec time mps: 0.06876, full state 0.03692\n",
      "bond dimension = 16\n",
      "n_wires = 8, depth = 10, chi = 150, exec time mps: 0.06346, full state 0.03692\n",
      "bond dimension = 16\n",
      "n_wires = 8, depth = 10, chi = 200, exec time mps: 0.06664, full state 0.03692\n",
      "bond dimension = 16\n",
      "n_wires = 9, depth = 10, chi = 50, exec time mps: 0.07970, full state 0.03316\n",
      "bond dimension = 16\n",
      "n_wires = 9, depth = 10, chi = 75, exec time mps: 0.08372, full state 0.03316\n",
      "bond dimension = 16\n",
      "n_wires = 9, depth = 10, chi = 100, exec time mps: 0.07813, full state 0.03316\n",
      "bond dimension = 16\n",
      "n_wires = 9, depth = 10, chi = 150, exec time mps: 0.08950, full state 0.03316\n",
      "bond dimension = 16\n",
      "n_wires = 9, depth = 10, chi = 200, exec time mps: 0.08155, full state 0.03316\n",
      "bond dimension = 32\n",
      "n_wires = 10, depth = 10, chi = 50, exec time mps: 0.10039, full state 0.03984\n",
      "bond dimension = 32\n",
      "n_wires = 10, depth = 10, chi = 75, exec time mps: 0.09822, full state 0.03984\n",
      "bond dimension = 32\n",
      "n_wires = 10, depth = 10, chi = 100, exec time mps: 0.09429, full state 0.03984\n",
      "bond dimension = 32\n",
      "n_wires = 10, depth = 10, chi = 150, exec time mps: 0.09990, full state 0.03984\n",
      "bond dimension = 32\n",
      "n_wires = 10, depth = 10, chi = 200, exec time mps: 0.09945, full state 0.03984\n",
      "bond dimension = 32\n",
      "n_wires = 11, depth = 10, chi = 50, exec time mps: 0.80674, full state 0.04497\n",
      "bond dimension = 32\n",
      "n_wires = 11, depth = 10, chi = 75, exec time mps: 1.05427, full state 0.04497\n",
      "bond dimension = 32\n",
      "n_wires = 11, depth = 10, chi = 100, exec time mps: 1.35191, full state 0.04497\n",
      "bond dimension = 32\n",
      "n_wires = 11, depth = 10, chi = 150, exec time mps: 1.48864, full state 0.04497\n",
      "bond dimension = 32\n",
      "n_wires = 11, depth = 10, chi = 200, exec time mps: 1.42553, full state 0.04497\n",
      "bond dimension = 50\n",
      "n_wires = 12, depth = 10, chi = 50, exec time mps: 1.91199, full state 0.12647\n",
      "results dont match: F = 0.9992697187591433\n",
      "bond dimension = 64\n",
      "n_wires = 12, depth = 10, chi = 75, exec time mps: 1.44436, full state 0.12647\n",
      "bond dimension = 64\n",
      "n_wires = 12, depth = 10, chi = 100, exec time mps: 1.18307, full state 0.12647\n",
      "bond dimension = 64\n",
      "n_wires = 12, depth = 10, chi = 150, exec time mps: 1.11939, full state 0.12647\n",
      "bond dimension = 64\n",
      "n_wires = 12, depth = 10, chi = 200, exec time mps: 1.35110, full state 0.12647\n",
      "bond dimension = 50\n",
      "n_wires = 13, depth = 10, chi = 50, exec time mps: 3.81811, full state 0.15198\n",
      "results dont match: F = 0.9903173460943889\n",
      "bond dimension = 64\n",
      "n_wires = 13, depth = 10, chi = 75, exec time mps: 2.44521, full state 0.15198\n",
      "bond dimension = 64\n",
      "n_wires = 13, depth = 10, chi = 100, exec time mps: 1.67588, full state 0.15198\n",
      "bond dimension = 64\n",
      "n_wires = 13, depth = 10, chi = 150, exec time mps: 0.80647, full state 0.15198\n",
      "bond dimension = 64\n",
      "n_wires = 13, depth = 10, chi = 200, exec time mps: 0.87653, full state 0.15198\n",
      "bond dimension = 50\n",
      "n_wires = 14, depth = 10, chi = 50, exec time mps: 2.82408, full state 0.13719\n",
      "results dont match: F = 0.9626935955896457\n",
      "bond dimension = 75\n",
      "n_wires = 14, depth = 10, chi = 75, exec time mps: 12.12018, full state 0.13719\n",
      "results dont match: F = 0.996437125394502\n",
      "bond dimension = 100\n",
      "n_wires = 14, depth = 10, chi = 100, exec time mps: 8.47854, full state 0.13719\n",
      "results dont match: F = 0.9997079028967151\n",
      "bond dimension = 128\n",
      "n_wires = 14, depth = 10, chi = 150, exec time mps: 6.39550, full state 0.13719\n",
      "bond dimension = 128\n",
      "n_wires = 14, depth = 10, chi = 200, exec time mps: 4.57101, full state 0.13719\n",
      "bond dimension = 50\n",
      "n_wires = 15, depth = 10, chi = 50, exec time mps: 1.63469, full state 0.28745\n",
      "results dont match: F = 0.9625654093953999\n",
      "bond dimension = 75\n",
      "n_wires = 15, depth = 10, chi = 75, exec time mps: 1.77714, full state 0.28745\n",
      "results dont match: F = 0.9964912658658922\n",
      "bond dimension = 100\n",
      "n_wires = 15, depth = 10, chi = 100, exec time mps: 4.25164, full state 0.28745\n",
      "results dont match: F = 0.9996690989885995\n",
      "bond dimension = 128\n",
      "n_wires = 15, depth = 10, chi = 150, exec time mps: 1.99474, full state 0.28745\n",
      "bond dimension = 128\n",
      "n_wires = 15, depth = 10, chi = 200, exec time mps: 1.90155, full state 0.28745\n",
      "bond dimension = 50\n",
      "n_wires = 16, depth = 10, chi = 50, exec time mps: 1.36910, full state 0.49379\n",
      "results dont match: F = 0.9874124576770247\n",
      "bond dimension = 75\n",
      "n_wires = 16, depth = 10, chi = 75, exec time mps: 4.72199, full state 0.49379\n",
      "results dont match: F = 0.9996245939647509\n",
      "bond dimension = 100\n",
      "n_wires = 16, depth = 10, chi = 100, exec time mps: 5.43423, full state 0.49379\n",
      "results dont match: F = 0.9999699481190891\n",
      "bond dimension = 150\n",
      "n_wires = 16, depth = 10, chi = 150, exec time mps: 3.51401, full state 0.49379\n",
      "bond dimension = 200\n",
      "n_wires = 16, depth = 10, chi = 200, exec time mps: 3.76355, full state 0.49379\n",
      "bond dimension = 50\n",
      "n_wires = 17, depth = 10, chi = 50, exec time mps: 2.02987, full state 0.90109\n",
      "results dont match: F = 0.9106481758310997\n",
      "bond dimension = 75\n",
      "n_wires = 17, depth = 10, chi = 75, exec time mps: 2.73911, full state 0.90109\n",
      "results dont match: F = 0.9886156151757197\n",
      "bond dimension = 100\n",
      "n_wires = 17, depth = 10, chi = 100, exec time mps: 4.19429, full state 0.90109\n",
      "results dont match: F = 0.9981448913938911\n",
      "bond dimension = 150\n",
      "n_wires = 17, depth = 10, chi = 150, exec time mps: 4.92844, full state 0.90109\n",
      "bond dimension = 200\n",
      "n_wires = 17, depth = 10, chi = 200, exec time mps: 5.13906, full state 0.90109\n",
      "bond dimension = 50\n",
      "n_wires = 18, depth = 10, chi = 50, exec time mps: 2.35904, full state 1.76922\n",
      "results dont match: F = 0.8847898947866426\n",
      "bond dimension = 75\n",
      "n_wires = 18, depth = 10, chi = 75, exec time mps: 3.18275, full state 1.76922\n",
      "results dont match: F = 0.9811480758576702\n",
      "bond dimension = 100\n",
      "n_wires = 18, depth = 10, chi = 100, exec time mps: 4.40314, full state 1.76922\n",
      "results dont match: F = 0.9956550695965657\n",
      "bond dimension = 150\n",
      "n_wires = 18, depth = 10, chi = 150, exec time mps: 6.33367, full state 1.76922\n",
      "results dont match: F = 0.9999153775163273\n",
      "bond dimension = 200\n",
      "n_wires = 18, depth = 10, chi = 200, exec time mps: 6.82991, full state 1.76922\n",
      "bond dimension = 50\n",
      "n_wires = 19, depth = 10, chi = 50, exec time mps: 1.84363, full state 3.84493\n",
      "results dont match: F = 0.9162535463332584\n",
      "bond dimension = 75\n",
      "n_wires = 19, depth = 10, chi = 75, exec time mps: 3.84387, full state 3.84493\n",
      "results dont match: F = 0.9901404984184574\n",
      "bond dimension = 100\n",
      "n_wires = 19, depth = 10, chi = 100, exec time mps: 4.53496, full state 3.84493\n",
      "results dont match: F = 0.9989745179823155\n",
      "bond dimension = 150\n",
      "n_wires = 19, depth = 10, chi = 150, exec time mps: 7.71843, full state 3.84493\n",
      "bond dimension = 200\n",
      "n_wires = 19, depth = 10, chi = 200, exec time mps: 8.86855, full state 3.84493\n",
      "bond dimension = 50\n",
      "n_wires = 20, depth = 10, chi = 50, exec time mps: 3.98392, full state 7.96142\n",
      "results dont match: F = 0.8597753454303992\n",
      "bond dimension = 75\n",
      "n_wires = 20, depth = 10, chi = 75, exec time mps: 4.22125, full state 7.96142\n",
      "results dont match: F = 0.9811007930979068\n",
      "bond dimension = 100\n",
      "n_wires = 20, depth = 10, chi = 100, exec time mps: 6.84114, full state 7.96142\n",
      "results dont match: F = 0.9967846770810689\n",
      "bond dimension = 150\n",
      "n_wires = 20, depth = 10, chi = 150, exec time mps: 15.33995, full state 7.96142\n",
      "results dont match: F = 0.9999714031769463\n",
      "bond dimension = 200\n",
      "n_wires = 20, depth = 10, chi = 200, exec time mps: 18.85671, full state 7.96142\n",
      "bond dimension = 50\n",
      "n_wires = 21, depth = 10, chi = 50, exec time mps: 2.82161, full state 16.08359\n",
      "results dont match: F = 0.8347960962914613\n",
      "bond dimension = 75\n",
      "n_wires = 21, depth = 10, chi = 75, exec time mps: 4.22442, full state 16.08359\n",
      "results dont match: F = 0.9685997221536077\n",
      "bond dimension = 100\n",
      "n_wires = 21, depth = 10, chi = 100, exec time mps: 9.80386, full state 16.08359\n",
      "results dont match: F = 0.9924025595179947\n",
      "bond dimension = 150\n",
      "n_wires = 21, depth = 10, chi = 150, exec time mps: 8.75519, full state 16.08359\n",
      "results dont match: F = 0.9998770787156159\n",
      "bond dimension = 200\n",
      "n_wires = 21, depth = 10, chi = 200, exec time mps: 23.05624, full state 16.08359\n",
      "bond dimension = 50\n",
      "n_wires = 22, depth = 10, chi = 50, exec time mps: 2.42126, full state 32.08766\n",
      "results dont match: F = 0.8378851006813399\n",
      "bond dimension = 75\n",
      "n_wires = 22, depth = 10, chi = 75, exec time mps: 3.96347, full state 32.08766\n",
      "results dont match: F = 0.9716971359917221\n",
      "bond dimension = 100\n",
      "n_wires = 22, depth = 10, chi = 100, exec time mps: 6.59814, full state 32.08766\n",
      "results dont match: F = 0.9938425293565322\n",
      "bond dimension = 150\n",
      "n_wires = 22, depth = 10, chi = 150, exec time mps: 8.39838, full state 32.08766\n",
      "results dont match: F = 0.9999380992649907\n",
      "bond dimension = 200\n",
      "n_wires = 22, depth = 10, chi = 200, exec time mps: 10.59026, full state 32.08766\n",
      "bond dimension = 50\n",
      "n_wires = 23, depth = 10, chi = 50, exec time mps: 3.09332, full state 65.99446\n",
      "results dont match: F = 0.7870413629772285\n",
      "bond dimension = 75\n",
      "n_wires = 23, depth = 10, chi = 75, exec time mps: 4.58861, full state 65.99446\n",
      "results dont match: F = 0.9401256723779198\n"
     ]
    },
    {
     "name": "stderr",
     "output_type": "stream",
     "text": [
      "/home/qottmann/Qottmann/Xanadu/pennylane/pennylane/devices/experimental/custom_device_3_numpydev/python_mps.py:265: UserWarning: SVD with lapack_driver 'gesdd' failed. Use backup 'gesvd'\n",
      "  X, Y, Z = svd(theta, full_matrices=False) #TODO switch to qml.math.svd\n"
     ]
    },
    {
     "name": "stdout",
     "output_type": "stream",
     "text": [
      "bond dimension = 100\n",
      "n_wires = 23, depth = 10, chi = 100, exec time mps: 6.76904, full state 65.99446\n",
      "results dont match: F = 0.9832722210372441\n",
      "bond dimension = 150\n",
      "n_wires = 23, depth = 10, chi = 150, exec time mps: 9.71389, full state 65.99446\n",
      "results dont match: F = 0.99898444962721\n",
      "bond dimension = 200\n",
      "n_wires = 23, depth = 10, chi = 200, exec time mps: 17.29920, full state 65.99446\n",
      "results dont match: F = 0.9999370036980164\n",
      "bond dimension = 50\n",
      "n_wires = 24, depth = 10, chi = 50, exec time mps: 10.19700, full state 136.73640\n",
      "results dont match: F = 0.7276405216995021\n",
      "bond dimension = 75\n",
      "n_wires = 24, depth = 10, chi = 75, exec time mps: 7.06116, full state 136.73640\n",
      "results dont match: F = 0.9432837446046985\n",
      "bond dimension = 100\n",
      "n_wires = 24, depth = 10, chi = 100, exec time mps: 11.36394, full state 136.73640\n",
      "results dont match: F = 0.9894069874255341\n",
      "bond dimension = 150\n",
      "n_wires = 24, depth = 10, chi = 150, exec time mps: 10.01078, full state 136.73640\n",
      "results dont match: F = 0.9998670635626163\n",
      "bond dimension = 200\n",
      "n_wires = 24, depth = 10, chi = 200, exec time mps: 14.74747, full state 136.73640\n"
     ]
    }
   ],
   "source": [
    "times = []\n",
    "times2 = []\n",
    "fids = []\n",
    "\n",
    "depth = 10\n",
    "chi_maxs = [50, 75, 100, 150, 200]\n",
    "n_wiress = np.arange(5, 25, 1)\n",
    "\n",
    "for n_wires in n_wiress:\n",
    "    a = 2*np.pi*np.random.rand(*(depth, 2*n_wires))\n",
    "    ops = [qml.Hadamard(i) for i in range(n_wires)]\n",
    "    for k in range(depth):\n",
    "        ops += [qml.RY(a[k, i], wires=i) for i in range(n_wires)]\n",
    "        ops += [qml.RX(a[k, i+n_wires], wires=i) for i in range(n_wires)]\n",
    "        ops += [qml.CNOT((i, i+1)) for i in range(n_wires-1)]\n",
    "\n",
    "    measurement = [qml.state()]\n",
    "\n",
    "    qs = qml.tape.QuantumScript(ops, measurement)\n",
    "\n",
    "    t0 = time()\n",
    "    res_check = dev_check.execute(qs)\n",
    "    dt2 = time()-t0\n",
    "    times2.append(dt2)\n",
    "\n",
    "    for chi_max in chi_maxs:\n",
    "        t0 = time()\n",
    "        res = dev.execute(qs, chi_max=chi_max)\n",
    "        dt = time()-t0\n",
    "        times.append(dt)\n",
    "\n",
    "        vec = mps2vec(res)\n",
    "        fidelity = np.abs(vec.conj().T @ res_check)\n",
    "        fids.append(fidelity)\n",
    "\n",
    "        print(f\"n_wires = {n_wires}, depth = {depth}, chi = {chi_max}, exec time mps: {dt:.5f}, full state {dt2:.5f}\")\n",
    "\n",
    "        if not qml.math.allclose(fidelity, 1):\n",
    "            print(f\"results dont match: F = {fidelity}\")"
   ]
  },
  {
   "cell_type": "code",
   "execution_count": 8,
   "metadata": {},
   "outputs": [],
   "source": [
    "times = np.reshape(times, (len(n_wiress), len(chi_maxs)))\n",
    "fids = np.reshape(fids, (len(n_wiress), len(chi_maxs)))"
   ]
  },
  {
   "cell_type": "code",
   "execution_count": 14,
   "metadata": {},
   "outputs": [
    {
     "data": {
      "image/png": "[encoded data removed]",
      "text/plain": [
       "<Figure size 500x500 with 2 Axes>"
      ]
     },
     "metadata": {},
     "output_type": "display_data"
    }
   ],
   "source": [
    "fig, axs = plt.subplots(nrows=2, figsize=(5,5), sharex=True)\n",
    "\n",
    "ax = axs[0]\n",
    "for i, chi_max in enumerate(chi_maxs):\n",
    "    ax.plot(n_wiress, times[:, i], \".-\", label=f\"$\\\\chi$={chi_max}\", alpha=0.4)\n",
    "ax.plot(n_wiress, times2, \".-\", label=\"numpy\")\n",
    "\n",
    "ax.set_yscale(\"log\")\n",
    "ax.set_xscale(\"log\")\n",
    "ax.set_ylabel(\"runtime(s)\")\n",
    "ax.legend()\n",
    "ax.set_title(f\"Random RX-RY-CNOT; depth = {depth}\")\n",
    "\n",
    "ax2 = axs[1]\n",
    "for i, chi_max in enumerate(chi_maxs):\n",
    "    ax2.plot(n_wiress, fids[:, i], \".-\", label=f\"$\\\\chi$={chi_max}\", alpha=0.5)\n",
    "ax2.set_yscale(\"log\")\n",
    "ax2.set_ylabel(\"fidelity\")\n",
    "ax2.legend()\n",
    "ax2.set_xlabel(\"n_wires\")\n",
    "\n",
    "plt.savefig(\"mps-vs-full.png\", bbox_inches = 'tight', dpi=500)"
   ]
  },
  {
   "attachments": {},
   "cell_type": "markdown",
   "metadata": {},
   "source": [
    "## Finite size scaling\n",
    "For <30 qubits we can compare with exact state vector methods to deduce the fidelity. The point of this mps simulator is not to compete with full state vector simulators like lightning, but rather to be able to simulate systems otherwise intractible.\n",
    "\n",
    "**But when simulating, say, 50 qubits, how do we know if our simulations are faithful?**\n",
    "\n",
    "One answer is, as always, finite size scaling. Meaning in this case that we run the simulation for different bond dimensions and check whether or not the results have converged.\n",
    "\n",
    "In the following we simulate the same random 50 qubit circuit for increasing bond dimensions. If the result converges to a fix value, it is a good indicator that the simulation is faithful. This is pure heuristics though, but works well in practice.\n",
    "\n",
    "Matrix product states offer more advanced means to quantify the faithfullness of the approximation. I.e. the cut-off at each compression when a gate is applied is a direct measure for the approximation error. I have not yet found a nice way to output this from the qnode, though it is no problem in principle."
   ]
  },
  {
   "cell_type": "code",
   "execution_count": 16,
   "metadata": {},
   "outputs": [
    {
     "name": "stdout",
     "output_type": "stream",
     "text": [
      "bond dimension = 32\n",
      "chi_max = 50, res = -0.059808830806669544, exec time mps: 0.97693\n",
      "bond dimension = 32\n",
      "chi_max = 75, res = -0.059808830806669544, exec time mps: 0.43688\n",
      "bond dimension = 32\n",
      "chi_max = 100, res = -0.059808830806669544, exec time mps: 0.36896\n",
      "bond dimension = 32\n",
      "chi_max = 150, res = -0.059808830806669544, exec time mps: 0.40559\n",
      "bond dimension = 32\n",
      "chi_max = 200, res = -0.059808830806669544, exec time mps: 0.46549\n",
      "bond dimension = 50\n",
      "chi_max = 50, res = 0.04784924210843616, exec time mps: 3.98603\n",
      "bond dimension = 75\n",
      "chi_max = 75, res = 0.047987125520960724, exec time mps: 5.51488\n",
      "bond dimension = 100\n",
      "chi_max = 100, res = 0.047986288844167835, exec time mps: 3.55655\n",
      "bond dimension = 128\n",
      "chi_max = 150, res = 0.04798628513626753, exec time mps: 4.87435\n",
      "bond dimension = 128\n",
      "chi_max = 200, res = 0.04798628513626753, exec time mps: 4.50795\n",
      "bond dimension = 50\n",
      "chi_max = 50, res = 0.04023262960678649, exec time mps: 8.85044\n",
      "bond dimension = 75\n",
      "chi_max = 75, res = 0.04509411217806208, exec time mps: 14.52846\n",
      "bond dimension = 100\n",
      "chi_max = 100, res = 0.04795175817029626, exec time mps: 22.81793\n",
      "bond dimension = 150\n",
      "chi_max = 150, res = 0.048486640446882695, exec time mps: 27.20918\n",
      "bond dimension = 200\n",
      "chi_max = 200, res = 0.04848607925061205, exec time mps: 35.03003\n",
      "bond dimension = 50\n",
      "chi_max = 50, res = 0.0029251713705921757, exec time mps: 11.66668\n",
      "bond dimension = 75\n",
      "chi_max = 75, res = 0.02294369200989986, exec time mps: 22.22180\n",
      "bond dimension = 100\n",
      "chi_max = 100, res = 0.003029973926932529, exec time mps: 26.04049\n",
      "bond dimension = 150\n",
      "chi_max = 150, res = 0.008517170283670869, exec time mps: 82.82714\n",
      "bond dimension = 200\n",
      "chi_max = 200, res = 0.008568580625278127, exec time mps: 74.84210\n",
      "bond dimension = 50\n",
      "chi_max = 50, res = -0.11141292940817922, exec time mps: 17.93241\n",
      "bond dimension = 75\n",
      "chi_max = 75, res = -0.04888637030603852, exec time mps: 28.89953\n",
      "bond dimension = 100\n",
      "chi_max = 100, res = -0.04188155291814886, exec time mps: 56.63111\n",
      "bond dimension = 150\n",
      "chi_max = 150, res = -0.02923326277265792, exec time mps: 64.37125\n",
      "bond dimension = 200\n",
      "chi_max = 200, res = -0.01677023697015391, exec time mps: 105.61380\n"
     ]
    }
   ],
   "source": [
    "times = []\n",
    "ress = []\n",
    "depths = [5, 7, 9, 11, 13]\n",
    "\n",
    "for depth in depths:\n",
    "    n_wires = 50\n",
    "    chi_maxs = [50, 75, 100, 150, 200]\n",
    "\n",
    "    np.random.seed(12345)\n",
    "    a = 2*np.pi*np.random.rand(*(depth, 2*n_wires))\n",
    "    ops = [qml.Hadamard(i) for i in range(n_wires)]\n",
    "    for k in range(depth):\n",
    "        ops += [qml.RY(a[k, i], wires=i) for i in range(n_wires)]\n",
    "        ops += [qml.RX(a[k, i+n_wires], wires=i) for i in range(n_wires)]\n",
    "        ops += [qml.CNOT((i, i+1)) for i in range(n_wires-1)]\n",
    "\n",
    "    measurement = []\n",
    "    for i in range(n_wires-1):\n",
    "        measurement.append(qml.expval(qml.PauliX(i) @ qml.PauliX(i+1)))\n",
    "\n",
    "    for chi_max in chi_maxs:\n",
    "        qs = qml.tape.QuantumScript(ops, measurement)\n",
    "        t0 = time()\n",
    "        res = np.sum(dev.execute(qs, chi_max=chi_max))\n",
    "        dt = time()-t0\n",
    "\n",
    "        print(f\"chi_max = {chi_max}, res = {res}, exec time mps: {dt:.5f}\")\n",
    "\n",
    "        times.append(dt)\n",
    "        ress.append(res)"
   ]
  },
  {
   "cell_type": "code",
   "execution_count": 17,
   "metadata": {},
   "outputs": [],
   "source": [
    "times = np.reshape(times, (len(depths), len(chi_maxs)))\n",
    "ress = np.reshape(ress, (len(depths), len(chi_maxs)))"
   ]
  },
  {
   "cell_type": "code",
   "execution_count": 22,
   "metadata": {},
   "outputs": [
    {
     "data": {
      "image/png": "[encoded data removed]",
      "text/plain": [
       "<Figure size 500x400 with 2 Axes>"
      ]
     },
     "metadata": {},
     "output_type": "display_data"
    }
   ],
   "source": [
    "fig, axs = plt.subplots(nrows=2, figsize=(5,4), sharex=True)\n",
    "\n",
    "ax = axs[0]\n",
    "ax.set_title(f\"Random RX-RY-CNOT; n_wires = {n_wires}\")\n",
    "for i, depth in enumerate(depths):\n",
    "    ax.plot(chi_maxs, ress[i]-ress[i,-1], \".-\", label=f\"D={depth}\")\n",
    "ax.legend()\n",
    "#ax.set_yscale(\"log\")\n",
    "\n",
    "ax.set_ylabel(\"E - E($\\\\chi_{{max}}$)\")\n",
    "\n",
    "ax2 = axs[1]\n",
    "for i, depth in enumerate(depths):\n",
    "    ax2.plot(chi_maxs, times[i], \".-\", label=f\"depth={depth}\")\n",
    "ax.legend(loc=6)\n",
    "ax2.set_yscale(\"log\")\n",
    "ax2.set_ylabel(\"runtime (s)\")\n",
    "ax2.set_xlabel(\"$\\\\chi$\")\n",
    "ax2.set_xscale(\"log\")\n",
    "\n",
    "plt.savefig(\"mps-finite-size-scaling.png\", bbox_inches = 'tight', dpi=500)"
   ]
  },
  {
   "attachments": {},
   "cell_type": "markdown",
   "metadata": {},
   "source": [
    "All but the $D=13$ runs seem to have converged to a reasonable value. Note that because the parameters are random for every depth, the resulting energies are very different and hence I plot $E(\\chi) - E(\\chi_\\text{max})$."
   ]
  },
  {
   "attachments": {},
   "cell_type": "markdown",
   "metadata": {},
   "source": [
    "# Gradient\n",
    "needs overlap function for adjoint method"
   ]
  },
  {
   "cell_type": "code",
   "execution_count": null,
   "metadata": {},
   "outputs": [],
   "source": [
    "chi_max=20; eps=1e-10\n",
    "ops = [qml.RY(0.5, wires=0), qml.Identity(1)]\n",
    "measurement = qml.expval(qml.PauliX(0))\n",
    "qscript = qml.tape.QuantumScript(ops, [measurement])"
   ]
  },
  {
   "cell_type": "code",
   "execution_count": null,
   "metadata": {},
   "outputs": [
    {
     "data": {
      "text/plain": [
       "(array(0.47942554), 0.47942553860420284)"
      ]
     },
     "metadata": {},
     "output_type": "display_data"
    }
   ],
   "source": [
    "dev.execute(qscript), dev_check.execute(qscript)"
   ]
  },
  {
   "cell_type": "code",
   "execution_count": null,
   "metadata": {},
   "outputs": [
    {
     "data": {
      "text/plain": [
       "([array(0.87758256)], [0.8775825618903725])"
      ]
     },
     "metadata": {},
     "output_type": "display_data"
    }
   ],
   "source": [
    "dev.gradient(qscript), dev_check.gradient(qscript)"
   ]
  },
  {
   "cell_type": "code",
   "execution_count": null,
   "metadata": {},
   "outputs": [
    {
     "data": {
      "text/plain": [
       "(array(0.09347337), 0.09347336547036136)"
      ]
     },
     "metadata": {},
     "output_type": "display_data"
    }
   ],
   "source": [
    "a = [0.1, 0.2, 0.3]\n",
    "ops = [qml.RY(a[0], wires=0),\n",
    "    qml.CNOT(wires=(0,1)),\n",
    "    qml.RY(a[1], wires=1),\n",
    "    qml.RZ(a[2], wires=1)]\n",
    "measurement = qml.expval(qml.PauliX(0) @ qml.PauliX(1))\n",
    "qs = qml.tape.QuantumScript(ops, [measurement])\n",
    "\n",
    "dev.execute(qs), dev_check.execute(qs)"
   ]
  },
  {
   "cell_type": "code",
   "execution_count": null,
   "metadata": {},
   "outputs": [
    {
     "data": {
      "text/plain": [
       "([array(0.9316158), array(-0.01894799), array(8.67361738e-19)],\n",
       " [0.9316157966884513, -0.018947989233612104, -0.028914700312991287])"
      ]
     },
     "metadata": {},
     "output_type": "display_data"
    }
   ],
   "source": [
    "dev.gradient(qs), dev_check.gradient(qs)"
   ]
  },
  {
   "attachments": {},
   "cell_type": "markdown",
   "metadata": {},
   "source": [
    "Gradients are still a bit buggy, my main suspicion is that using ``apply_operation`` to apply the observable and ``dU=iGU`` in ``TestDeviceMPSSim.gradient`` is not correct. For Pauli gates they are in principle unitaries, however, the ``qml.operations.operation_derivative`` accesses the generator which is defined as ``0.5 * Pauli`` in pennylane."
   ]
  },
  {
   "cell_type": "markdown",
   "metadata": {},
   "source": []
  }
 ],
 "metadata": {
  "kernelspec": {
   "display_name": "pennylane",
   "language": "python",
   "name": "python3"
  },
  "language_info": {
   "codemirror_mode": {
    "name": "ipython",
    "version": 3
   },
   "file_extension": ".py",
   "mimetype": "text/x-python",
   "name": "python",
   "nbconvert_exporter": "python",
   "pygments_lexer": "ipython3",
   "version": "3.8.13 (default, Oct 21 2022, 23:50:54) \n[GCC 11.2.0]"
  },
  "orig_nbformat": 4,
  "vscode": {
   "interpreter": {
    "hash": "9686d7135c507acf535d05158d41b23f151b7f97a7a59cb8e05a88553ea2b8de"
   }
  }
 },
 "nbformat": 4,
 "nbformat_minor": 2
}
