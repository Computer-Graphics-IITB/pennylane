{
 "cells": [
  {
   "cell_type": "code",
   "execution_count": 1,
   "metadata": {},
   "outputs": [],
   "source": [
    "import pennylane as qml\n",
    "from pennylane import numpy as np\n",
    "from pennylane.devices.experimental import TestDevicePythonSim, PlainNumpySimulator"
   ]
  },
  {
   "cell_type": "code",
   "execution_count": 20,
   "metadata": {},
   "outputs": [],
   "source": [
    "dev = TestDevicePythonSim()"
   ]
  },
  {
   "cell_type": "markdown",
   "metadata": {
    "jp-MarkdownHeadingCollapsed": true,
    "tags": []
   },
   "source": [
    "## The Preprocessor"
   ]
  },
  {
   "cell_type": "markdown",
   "metadata": {},
   "source": [
    "Suppose we create a `QuantumScript` with operations not natively supported by the device."
   ]
  },
  {
   "cell_type": "code",
   "execution_count": 3,
   "metadata": {},
   "outputs": [],
   "source": [
    "weights = np.array([[0.1, -2.1, 1.4]])\n",
    "ops = [qml.RandomLayers(weights=weights, wires=range(2))]\n",
    "\n",
    "qs1 = qml.tape.QuantumScript(ops, [qml.state()])"
   ]
  },
  {
   "cell_type": "markdown",
   "metadata": {},
   "source": [
    "When we try to execute that script, things will fall over and die with unhelpful error messages."
   ]
  },
  {
   "cell_type": "code",
   "execution_count": 4,
   "metadata": {
    "tags": []
   },
   "outputs": [
    {
     "ename": "MatrixUndefinedError",
     "evalue": "",
     "output_type": "error",
     "traceback": [
      "\u001b[0;31m---------------------------------------------------------------------------\u001b[0m",
      "\u001b[0;31mMatrixUndefinedError\u001b[0m                      Traceback (most recent call last)",
      "Cell \u001b[0;32mIn [4], line 1\u001b[0m\n\u001b[0;32m----> 1\u001b[0m \u001b[43mdev\u001b[49m\u001b[38;5;241;43m.\u001b[39;49m\u001b[43mexecute\u001b[49m\u001b[43m(\u001b[49m\u001b[43mqs1\u001b[49m\u001b[43m)\u001b[49m\n",
      "File \u001b[0;32m~/Prog/pennylane/pennylane/devices/experimental/custom_device_3_numpydev/python_device.py:32\u001b[0m, in \u001b[0;36mTestDevicePythonSim.execute\u001b[0;34m(self, qscript, execution_config)\u001b[0m\n\u001b[1;32m     30\u001b[0m     simulator \u001b[38;5;241m=\u001b[39m JaxSimulator() \u001b[38;5;28;01mif\u001b[39;00m interface \u001b[38;5;241m==\u001b[39m \u001b[38;5;124m\"\u001b[39m\u001b[38;5;124mjax\u001b[39m\u001b[38;5;124m\"\u001b[39m \u001b[38;5;28;01melse\u001b[39;00m PlainNumpySimulator()\n\u001b[1;32m     31\u001b[0m     \u001b[38;5;28mself\u001b[39m\u001b[38;5;241m.\u001b[39m_private_sim \u001b[38;5;241m=\u001b[39m simulator\n\u001b[0;32m---> 32\u001b[0m     \u001b[38;5;28;01mreturn\u001b[39;00m \u001b[43msimulator\u001b[49m\u001b[38;5;241;43m.\u001b[39;49m\u001b[43mexecute\u001b[49m\u001b[43m(\u001b[49m\u001b[43mqscript\u001b[49m\u001b[43m)\u001b[49m\n\u001b[1;32m     34\u001b[0m \u001b[38;5;28;01mreturn\u001b[39;00m [\u001b[38;5;28mself\u001b[39m\u001b[38;5;241m.\u001b[39mexecute(qs) \u001b[38;5;28;01mfor\u001b[39;00m qs \u001b[38;5;129;01min\u001b[39;00m qscript]\n",
      "File \u001b[0;32m~/Prog/pennylane/pennylane/devices/experimental/custom_device_3_numpydev/python_simulator.py:44\u001b[0m, in \u001b[0;36mPlainNumpySimulator.execute\u001b[0;34m(cls, qs, dtype)\u001b[0m\n\u001b[1;32m     42\u001b[0m state \u001b[38;5;241m=\u001b[39m \u001b[38;5;28mcls\u001b[39m\u001b[38;5;241m.\u001b[39mcreate_zeroes_state(num_indices, dtype\u001b[38;5;241m=\u001b[39mdtype)\n\u001b[1;32m     43\u001b[0m \u001b[38;5;28;01mfor\u001b[39;00m op \u001b[38;5;129;01min\u001b[39;00m qs\u001b[38;5;241m.\u001b[39m_ops:\n\u001b[0;32m---> 44\u001b[0m     state \u001b[38;5;241m=\u001b[39m \u001b[38;5;28;43mcls\u001b[39;49m\u001b[38;5;241;43m.\u001b[39;49m\u001b[43mapply_operation\u001b[49m\u001b[43m(\u001b[49m\u001b[43mstate\u001b[49m\u001b[43m,\u001b[49m\u001b[43m \u001b[49m\u001b[43mop\u001b[49m\u001b[43m)\u001b[49m\n\u001b[1;32m     46\u001b[0m \u001b[38;5;28;01mif\u001b[39;00m \u001b[38;5;28mlen\u001b[39m(qs\u001b[38;5;241m.\u001b[39mmeasurements) \u001b[38;5;241m==\u001b[39m \u001b[38;5;241m1\u001b[39m:\n\u001b[1;32m     47\u001b[0m     \u001b[38;5;28;01mreturn\u001b[39;00m \u001b[38;5;28mcls\u001b[39m\u001b[38;5;241m.\u001b[39mmeasure(state, qs\u001b[38;5;241m.\u001b[39mmeasurements[\u001b[38;5;241m0\u001b[39m])\n",
      "File \u001b[0;32m~/Prog/pennylane/pennylane/devices/experimental/custom_device_3_numpydev/python_simulator.py:68\u001b[0m, in \u001b[0;36mPlainNumpySimulator.apply_operation\u001b[0;34m(cls, state, operation)\u001b[0m\n\u001b[1;32m     65\u001b[0m \u001b[38;5;129m@classmethod\u001b[39m\n\u001b[1;32m     66\u001b[0m \u001b[38;5;28;01mdef\u001b[39;00m \u001b[38;5;21mapply_operation\u001b[39m(\u001b[38;5;28mcls\u001b[39m, state, operation):\n\u001b[1;32m     67\u001b[0m     \u001b[38;5;124;03m\"\"\" \"\"\"\u001b[39;00m\n\u001b[0;32m---> 68\u001b[0m     matrix \u001b[38;5;241m=\u001b[39m \u001b[43moperation\u001b[49m\u001b[38;5;241;43m.\u001b[39;49m\u001b[43mmatrix\u001b[49m\u001b[43m(\u001b[49m\u001b[43m)\u001b[49m\n\u001b[1;32m     69\u001b[0m     \u001b[38;5;28;01mif\u001b[39;00m \u001b[38;5;28mlen\u001b[39m(operation\u001b[38;5;241m.\u001b[39mwires) \u001b[38;5;241m<\u001b[39m \u001b[38;5;241m3\u001b[39m:\n\u001b[1;32m     70\u001b[0m         \u001b[38;5;28;01mreturn\u001b[39;00m \u001b[38;5;28mcls\u001b[39m\u001b[38;5;241m.\u001b[39mapply_matrix_einsum(state, matrix, operation\u001b[38;5;241m.\u001b[39mwires)\n",
      "File \u001b[0;32m~/Prog/pennylane/pennylane/operation.py:1376\u001b[0m, in \u001b[0;36mOperation.matrix\u001b[0;34m(self, wire_order)\u001b[0m\n\u001b[1;32m   1375\u001b[0m \u001b[38;5;28;01mdef\u001b[39;00m \u001b[38;5;21mmatrix\u001b[39m(\u001b[38;5;28mself\u001b[39m, wire_order\u001b[38;5;241m=\u001b[39m\u001b[38;5;28;01mNone\u001b[39;00m):\n\u001b[0;32m-> 1376\u001b[0m     canonical_matrix \u001b[38;5;241m=\u001b[39m \u001b[38;5;28;43mself\u001b[39;49m\u001b[38;5;241;43m.\u001b[39;49m\u001b[43mcompute_matrix\u001b[49m\u001b[43m(\u001b[49m\u001b[38;5;241;43m*\u001b[39;49m\u001b[38;5;28;43mself\u001b[39;49m\u001b[38;5;241;43m.\u001b[39;49m\u001b[43mparameters\u001b[49m\u001b[43m,\u001b[49m\u001b[43m \u001b[49m\u001b[38;5;241;43m*\u001b[39;49m\u001b[38;5;241;43m*\u001b[39;49m\u001b[38;5;28;43mself\u001b[39;49m\u001b[38;5;241;43m.\u001b[39;49m\u001b[43mhyperparameters\u001b[49m\u001b[43m)\u001b[49m\n\u001b[1;32m   1378\u001b[0m     \u001b[38;5;28;01mif\u001b[39;00m \u001b[38;5;28mself\u001b[39m\u001b[38;5;241m.\u001b[39minverse:\n\u001b[1;32m   1379\u001b[0m         canonical_matrix \u001b[38;5;241m=\u001b[39m qml\u001b[38;5;241m.\u001b[39mmath\u001b[38;5;241m.\u001b[39mconj(qml\u001b[38;5;241m.\u001b[39mmath\u001b[38;5;241m.\u001b[39mmoveaxis(canonical_matrix, \u001b[38;5;241m-\u001b[39m\u001b[38;5;241m2\u001b[39m, \u001b[38;5;241m-\u001b[39m\u001b[38;5;241m1\u001b[39m))\n",
      "File \u001b[0;32m~/Prog/pennylane/pennylane/operation.py:446\u001b[0m, in \u001b[0;36mOperator.compute_matrix\u001b[0;34m(*params, **hyperparams)\u001b[0m\n\u001b[1;32m    430\u001b[0m \u001b[38;5;129m@staticmethod\u001b[39m\n\u001b[1;32m    431\u001b[0m \u001b[38;5;28;01mdef\u001b[39;00m \u001b[38;5;21mcompute_matrix\u001b[39m(\u001b[38;5;241m*\u001b[39mparams, \u001b[38;5;241m*\u001b[39m\u001b[38;5;241m*\u001b[39mhyperparams):  \u001b[38;5;66;03m# pylint:disable=unused-argument\u001b[39;00m\n\u001b[1;32m    432\u001b[0m     \u001b[38;5;124mr\u001b[39m\u001b[38;5;124;03m\"\"\"Representation of the operator as a canonical matrix in the computational basis (static method).\u001b[39;00m\n\u001b[1;32m    433\u001b[0m \n\u001b[1;32m    434\u001b[0m \u001b[38;5;124;03m    The canonical matrix is the textbook matrix representation that does not consider wires.\u001b[39;00m\n\u001b[0;32m   (...)\u001b[0m\n\u001b[1;32m    444\u001b[0m \u001b[38;5;124;03m        tensor_like: matrix representation\u001b[39;00m\n\u001b[1;32m    445\u001b[0m \u001b[38;5;124;03m    \"\"\"\u001b[39;00m\n\u001b[0;32m--> 446\u001b[0m     \u001b[38;5;28;01mraise\u001b[39;00m MatrixUndefinedError\n",
      "\u001b[0;31mMatrixUndefinedError\u001b[0m: "
     ]
    }
   ],
   "source": [
    "dev.execute(qs1)"
   ]
  },
  {
   "cell_type": "markdown",
   "metadata": {
    "tags": []
   },
   "source": [
    "So we first want to preprocess and validate the qscript.  Once we processed it, we have something\n",
    "the device can execute."
   ]
  },
  {
   "cell_type": "code",
   "execution_count": null,
   "metadata": {},
   "outputs": [],
   "source": [
    "processed_qs1 = dev.preprocess(qs1)\n",
    "dev.execute(processed_qs1)"
   ]
  },
  {
   "cell_type": "markdown",
   "metadata": {},
   "source": [
    "Preprocessing can include more than just \"I support this\" and \"I don't support this\".\n",
    "\n",
    "It could also include compilation steps, like running `qml.simplify`."
   ]
  },
  {
   "cell_type": "code",
   "execution_count": null,
   "metadata": {},
   "outputs": [],
   "source": [
    "qs3 = qml.tape.QuantumScript([qml.PauliX(0) ** 0.5], [qml.state()])\n",
    "dev.preprocess(qs3).circuit"
   ]
  },
  {
   "cell_type": "markdown",
   "metadata": {},
   "source": [
    "If it *cant* convert the `QuantumScript` into something executable, it would raise an error\n",
    "at this point, before any executions begin."
   ]
  },
  {
   "cell_type": "code",
   "execution_count": null,
   "metadata": {
    "tags": []
   },
   "outputs": [],
   "source": [
    "qs2 = qml.tape.QuantumScript([qml.S(i) for i in range(55)], [qml.state()])\n",
    "dev.preprocess(qs2)"
   ]
  },
  {
   "cell_type": "markdown",
   "metadata": {
    "jp-MarkdownHeadingCollapsed": true,
    "tags": []
   },
   "source": [
    "# Derivatives"
   ]
  },
  {
   "cell_type": "code",
   "execution_count": null,
   "metadata": {},
   "outputs": [],
   "source": [
    "a = [0.1, 0.2, 0.3]\n",
    "ops = [qml.RX(a[0], wires=0),\n",
    "    qml.CNOT(wires=(0,1)),\n",
    "    qml.RY(a[1], wires=1),\n",
    "    qml.RZ(a[2], wires=1)]\n",
    "measurement = qml.expval(qml.PauliX(1))\n",
    "qs = qml.tape.QuantumScript(ops, [measurement])\n",
    "\n",
    "dev.gradient(qs)"
   ]
  },
  {
   "cell_type": "markdown",
   "metadata": {
    "tags": []
   },
   "source": [
    "## The Simulator\n",
    "\n",
    "In this prototype, the \"Simulator\" is separate from the device interface."
   ]
  },
  {
   "cell_type": "code",
   "execution_count": null,
   "metadata": {},
   "outputs": [],
   "source": [
    "sim = PlainNumpySimulator()"
   ]
  },
  {
   "cell_type": "markdown",
   "metadata": {
    "tags": []
   },
   "source": [
    "Since we are not mixing the device interface with the simulator design, we could make the\n",
    "`PlainNumpySimulator` a user-facing object in its own right.\n",
    "\n",
    "This would make it more easier the explain and play with the simulator internals. For example, we can calculate that adjoint jacobian without resorting to private methods."
   ]
  },
  {
   "cell_type": "code",
   "execution_count": null,
   "metadata": {},
   "outputs": [],
   "source": [
    "a = [0.1, 0.2, 0.3]\n",
    "ops = [qml.RX(a[0], wires=0),\n",
    "    qml.CNOT(wires=(0,1)),\n",
    "    qml.RY(a[1], wires=1),\n",
    "    qml.RZ(a[2], wires=1)]\n",
    "measurement = qml.expval(qml.PauliX(1))\n",
    "\n",
    "state = sim.create_zeroes_state(2)\n",
    "for op in ops:\n",
    "    state = sim.apply_operation(state, op)\n",
    "bra = sim.apply_operation(state, measurement.obs)\n",
    "ket = state\n",
    "\n",
    "grads = []\n",
    "for op in reversed(ops):\n",
    "    adj_op = qml.adjoint(op)\n",
    "    ket = sim.apply_operation(ket, adj_op)\n",
    "\n",
    "    if op.num_params != 0:\n",
    "        dU = qml.operation.operation_derivative(op)\n",
    "        ket_temp = sim.apply_matrix(ket, dU, op.wires)\n",
    "        dM = 2 * np.real(np.vdot(bra, ket_temp))\n",
    "        grads.append(dM)\n",
    "\n",
    "    bra = sim.apply_operation(bra, adj_op)\n",
    "\n",
    "grads = grads[::-1]\n",
    "print(grads)\n"
   ]
  },
  {
   "cell_type": "markdown",
   "metadata": {
    "tags": []
   },
   "source": [
    "# Integration"
   ]
  },
  {
   "cell_type": "code",
   "execution_count": 21,
   "metadata": {},
   "outputs": [],
   "source": [
    "qml.enable_return()"
   ]
  },
  {
   "cell_type": "code",
   "execution_count": 30,
   "metadata": {},
   "outputs": [],
   "source": [
    "dev.batch_execute = dev.execute\n",
    "\n",
    "dev.batch_transform = dev.preprocess\n",
    "dev.expand_fn = lambda circuit, max_expansion: circuit\n",
    "dev.shots = None\n",
    "dev._shot_vector = []\n",
    "dev.shot_vector = None"
   ]
  },
  {
   "cell_type": "code",
   "execution_count": 31,
   "metadata": {},
   "outputs": [],
   "source": [
    "@qml.qnode(dev, diff_method=\"device\")\n",
    "def circuit(a):\n",
    "    ops =[qml.RX(a[0], wires=0),\n",
    "    qml.CNOT(wires=(0,1)),\n",
    "    qml.RY(a[1], wires=1),\n",
    "    qml.RZ(a[2], wires=1)]\n",
    "    return qml.expval(qml.PauliX(1))\n",
    "a\n",
    "x = qml.numpy.array([1.2, 2.3, 3.4])\n"
   ]
  },
  {
   "cell_type": "code",
   "execution_count": 32,
   "metadata": {},
   "outputs": [
    {
     "data": {
      "text/plain": [
       "[-0.2414302829326092]"
      ]
     },
     "execution_count": 32,
     "metadata": {},
     "output_type": "execute_result"
    }
   ],
   "source": [
    "circuit(x)"
   ]
  },
  {
   "cell_type": "code",
   "execution_count": 33,
   "metadata": {},
   "outputs": [
    {
     "data": {
      "text/plain": [
       "array([0.67195027, 0.23341436, 0.06905029])"
      ]
     },
     "execution_count": 33,
     "metadata": {},
     "output_type": "execute_result"
    }
   ],
   "source": [
    "qml.grad(circuit)(x)"
   ]
  },
  {
   "cell_type": "code",
   "execution_count": null,
   "metadata": {},
   "outputs": [],
   "source": [
    "@qml.qnode(dev, diff_method=qml.gradients.param_shift)\n",
    "def circuit(a):\n",
    "    ops =[qml.RX(a[0], wires=0),\n",
    "    qml.CNOT(wires=(0,1)),\n",
    "    qml.RY(a[1], wires=1),\n",
    "    qml.RZ(a[2], wires=1)]\n",
    "    return qml.expval(qml.PauliX(1))\n",
    "\n",
    "x = qml.numpy.array([1.2, 2.3, 3.4])\n",
    "qml.grad(circuit)(x)"
   ]
  },
  {
   "cell_type": "code",
   "execution_count": null,
   "metadata": {},
   "outputs": [],
   "source": []
  }
 ],
 "metadata": {
  "interpreter": {
   "hash": "535baace8cc0663ea9727bfbf18ac1e640675130945c7887b49cddf6e16fe841"
  },
  "kernelspec": {
   "display_name": "Python 3 (ipykernel)",
   "language": "python",
   "name": "python3"
  },
  "language_info": {
   "codemirror_mode": {
    "name": "ipython",
    "version": 3
   },
   "file_extension": ".py",
   "mimetype": "text/x-python",
   "name": "python",
   "nbconvert_exporter": "python",
   "pygments_lexer": "ipython3",
   "version": "3.11.0"
  }
 },
 "nbformat": 4,
 "nbformat_minor": 4
}
