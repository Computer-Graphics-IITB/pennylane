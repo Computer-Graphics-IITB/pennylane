{
 "cells": [
  {
   "cell_type": "code",
   "execution_count": 1,
   "id": "d7a7379f-627b-4a91-9262-e3e2da3109aa",
   "metadata": {},
   "outputs": [],
   "source": [
    "import pennylane as qml\n",
    "from pennylane import numpy as np\n",
    "from pennylane.devices.experimental import TestDevicePythonSim, PlainNumpySimulator"
   ]
  },
  {
   "cell_type": "code",
   "execution_count": 2,
   "id": "983eb8ee-bef9-4999-a6fe-4fca232e3f30",
   "metadata": {},
   "outputs": [],
   "source": [
    "qml.enable_return()"
   ]
  },
  {
   "cell_type": "code",
   "execution_count": 3,
   "id": "d0c57e71-1baa-4d25-8208-01d035915355",
   "metadata": {},
   "outputs": [],
   "source": [
    "dev = TestDevicePythonSim()"
   ]
  },
  {
   "cell_type": "code",
   "execution_count": 4,
   "id": "6903b103-bff1-4a34-86f4-c201ceb56e11",
   "metadata": {},
   "outputs": [],
   "source": [
    "dev_old = qml.device('default.qubit', wires=2)"
   ]
  },
  {
   "cell_type": "code",
   "execution_count": 5,
   "id": "8dd01a4a-95ca-4d10-af70-9bab6c995f2c",
   "metadata": {
    "jupyter": {
     "source_hidden": true
    },
    "tags": []
   },
   "outputs": [],
   "source": [
    "def tmp_expand_fn(cirq, max_expansion):\n",
    "    return dev.preprocess(cirq)\n",
    "\n",
    "def batch_tform(circ):\n",
    "    return [circ], lambda x: x\n",
    "\n",
    "dev.batch_execute = dev.execute\n",
    "dev.batch_transform = batch_tform #dev.preprocess\n",
    "dev.expand_fn = tmp_expand_fn\n",
    "dev.shots = None\n",
    "dev._shot_vector = []"
   ]
  },
  {
   "cell_type": "code",
   "execution_count": 6,
   "id": "5fa34c1e-4ed3-4b49-b904-db6e018846bc",
   "metadata": {},
   "outputs": [],
   "source": [
    "a = qml.numpy.array([1.2, 3.4, 4.5])\n",
    "ops =[qml.RX(a[0], wires=0),\n",
    "qml.CNOT(wires=(0,1)),\n",
    "qml.RY(a[1], wires=1),\n",
    "qml.RZ(a[2], wires=1)]\n",
    "m = [qml.expval(qml.PauliX(1))]\n",
    "     \n",
    "qs = qml.tape.QuantumScript(ops, m)"
   ]
  },
  {
   "cell_type": "code",
   "execution_count": 7,
   "id": "568a0301-2a3e-489d-a0dd-a4a3ddbcf359",
   "metadata": {},
   "outputs": [
    {
     "data": {
      "text/plain": [
       "([array(0.01951912)],\n",
       " [(array(-0.05020614), array(0.07384742), array(-0.09051665))])"
      ]
     },
     "execution_count": 7,
     "metadata": {},
     "output_type": "execute_result"
    }
   ],
   "source": [
    "rold, gold = dev_old.execute_and_gradients([qs], method=\"adjoint_jacobian\")\n",
    "rold, gold"
   ]
  },
  {
   "cell_type": "code",
   "execution_count": 8,
   "id": "0f893ff9-b8c0-4a4f-8275-acaf58a5c60b",
   "metadata": {},
   "outputs": [],
   "source": [
    "r, g = dev.execute_and_gradients([qs])"
   ]
  },
  {
   "cell_type": "code",
   "execution_count": 9,
   "id": "f1b62bf2-39c5-4e81-a4c2-1b97ee0d5d01",
   "metadata": {},
   "outputs": [
    {
     "data": {
      "text/plain": [
       "[array(0.01951912)]"
      ]
     },
     "execution_count": 9,
     "metadata": {},
     "output_type": "execute_result"
    }
   ],
   "source": [
    "rold"
   ]
  },
  {
   "cell_type": "code",
   "execution_count": 10,
   "id": "67e8be3c-27d9-44dc-bd8a-91de599e29b0",
   "metadata": {},
   "outputs": [
    {
     "data": {
      "text/plain": [
       "[array(0.01951912)]"
      ]
     },
     "execution_count": 10,
     "metadata": {},
     "output_type": "execute_result"
    }
   ],
   "source": [
    "r"
   ]
  },
  {
   "cell_type": "code",
   "execution_count": 11,
   "id": "961b1b69-a58b-4046-8686-ba289ab0a9d0",
   "metadata": {
    "tags": []
   },
   "outputs": [],
   "source": [
    "@qml.qnode(dev_old, diff_method=\"adjoint\")\n",
    "def cold(a):\n",
    "    ops =[qml.RX(a[0], wires=0),\n",
    "    qml.CNOT(wires=(0,1)),\n",
    "    qml.RY(a[1], wires=1),\n",
    "    qml.RZ(a[2], wires=1)]\n",
    "    return qml.expval(qml.PauliX(1))"
   ]
  },
  {
   "cell_type": "code",
   "execution_count": 12,
   "id": "4a92e3ba-40cf-4b4d-acf0-8a05a4d0409a",
   "metadata": {},
   "outputs": [],
   "source": [
    "@qml.qnode(dev, diff_method=\"adjoint\")\n",
    "def c(a):\n",
    "    ops =[qml.RX(a[0], wires=0),\n",
    "    qml.CNOT(wires=(0,1)),\n",
    "    qml.RY(a[1], wires=1),\n",
    "    qml.RZ(a[2], wires=1)]\n",
    "    return qml.expval(qml.PauliX(1))"
   ]
  },
  {
   "cell_type": "code",
   "execution_count": 13,
   "id": "36c1915e-5653-465d-b8c1-b70d9378c23d",
   "metadata": {},
   "outputs": [],
   "source": [
    "a = qml.numpy.array([1.2, 3.4, 4.5])"
   ]
  },
  {
   "cell_type": "code",
   "execution_count": 14,
   "id": "bb40d85a-12d5-408c-aba1-c05ee591a017",
   "metadata": {},
   "outputs": [
    {
     "data": {
      "text/plain": [
       "[array(0.01951912)]"
      ]
     },
     "execution_count": 14,
     "metadata": {},
     "output_type": "execute_result"
    }
   ],
   "source": [
    "c(a)"
   ]
  },
  {
   "cell_type": "code",
   "execution_count": 15,
   "id": "0bce7c4a-2620-4b0d-9e25-e6933b5f8eda",
   "metadata": {},
   "outputs": [
    {
     "data": {
      "text/plain": [
       "array(0.01951912)"
      ]
     },
     "execution_count": 15,
     "metadata": {},
     "output_type": "execute_result"
    }
   ],
   "source": [
    "cold(a)"
   ]
  },
  {
   "cell_type": "code",
   "execution_count": 16,
   "id": "73e91cee-7149-44ac-a127-63e9ca101fb5",
   "metadata": {},
   "outputs": [
    {
     "data": {
      "text/plain": [
       "array([-0.05020614,  0.07384742, -0.09051665])"
      ]
     },
     "execution_count": 16,
     "metadata": {},
     "output_type": "execute_result"
    }
   ],
   "source": [
    "qml.grad(cold)(a)"
   ]
  },
  {
   "cell_type": "code",
   "execution_count": 17,
   "id": "f7b8738d-3b91-4c8e-9b6d-a62ec485aba8",
   "metadata": {},
   "outputs": [
    {
     "data": {
      "text/plain": [
       "array([-0.05020614,  0.07384742, -0.09051665])"
      ]
     },
     "execution_count": 17,
     "metadata": {},
     "output_type": "execute_result"
    }
   ],
   "source": [
    "qml.grad(c)(a)"
   ]
  },
  {
   "cell_type": "code",
   "execution_count": null,
   "id": "1d65bd59-3ef4-466c-937c-ccf45d45ce3a",
   "metadata": {},
   "outputs": [],
   "source": []
  }
 ],
 "metadata": {
  "kernelspec": {
   "display_name": "Python 3.10.7 ('pl310')",
   "language": "python",
   "name": "python3107jvsc74a57bd0d7abcdde6cf588699ea141d5cb29fd40e22affd9f5aea5cda367ff961bc7685e"
  },
  "language_info": {
   "codemirror_mode": {
    "name": "ipython",
    "version": 3
   },
   "file_extension": ".py",
   "mimetype": "text/x-python",
   "name": "python",
   "nbconvert_exporter": "python",
   "pygments_lexer": "ipython3",
   "version": "3.10.7"
  }
 },
 "nbformat": 4,
 "nbformat_minor": 5
}
