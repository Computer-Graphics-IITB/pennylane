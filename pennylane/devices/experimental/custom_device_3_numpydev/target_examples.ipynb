{
 "cells": [
  {
   "cell_type": "code",
   "execution_count": 1,
   "id": "d7a7379f-627b-4a91-9262-e3e2da3109aa",
   "metadata": {},
   "outputs": [],
   "source": [
    "import pennylane as qml\n",
    "from pennylane import numpy as np\n",
    "from pennylane.devices.experimental import TestDevicePythonSim, PlainNumpySimulator"
   ]
  },
  {
   "cell_type": "code",
   "execution_count": 2,
   "id": "983eb8ee-bef9-4999-a6fe-4fca232e3f30",
   "metadata": {},
   "outputs": [],
   "source": [
    "qml.enable_return()"
   ]
  },
  {
   "cell_type": "code",
   "execution_count": 3,
   "id": "98257937-2f3a-4e13-bb85-e5e917ecf81f",
   "metadata": {},
   "outputs": [],
   "source": [
    "dev = TestDevicePythonSim()"
   ]
  },
  {
   "cell_type": "code",
   "execution_count": 4,
   "id": "fb4b49ca-5608-4f1f-b9f9-f177a4353ea0",
   "metadata": {},
   "outputs": [],
   "source": [
    "qs = qml.tape.QuantumScript([qml.IsingXX(np.pi/2, wires=(0,1))],\n",
    "                            [qml.mutual_info(wires0=[0], wires1=[1])])"
   ]
  },
  {
   "cell_type": "code",
   "execution_count": 5,
   "id": "c17a11d0-e1b6-454a-bc47-d92dc53119d9",
   "metadata": {},
   "outputs": [
    {
     "name": "stdout",
     "output_type": "stream",
     "text": [
      "<Wires = [0, 1]>\n",
      "[[0.70710678+0.j         0.        +0.j        ]\n",
      " [0.        +0.j         0.        -0.70710678j]]\n"
     ]
    },
    {
     "data": {
      "text/plain": [
       "0.24506453586713678"
      ]
     },
     "execution_count": 5,
     "metadata": {},
     "output_type": "execute_result"
    }
   ],
   "source": [
    "dev.execute(qs)"
   ]
  },
  {
   "cell_type": "code",
   "execution_count": 6,
   "id": "d93b137d-fa14-4b9c-a35e-0d27d64d2efb",
   "metadata": {},
   "outputs": [],
   "source": [
    "sim = PlainNumpySimulator()"
   ]
  },
  {
   "cell_type": "code",
   "execution_count": 7,
   "id": "fa441699-ac06-4570-a349-11f2b44e2f88",
   "metadata": {},
   "outputs": [
    {
     "data": {
      "text/plain": [
       "array([[0.70710678+0.j        , 0.        +0.j        ],\n",
       "       [0.        +0.j        , 0.        -0.70710678j]])"
      ]
     },
     "execution_count": 7,
     "metadata": {},
     "output_type": "execute_result"
    }
   ],
   "source": [
    "state = sim.create_zeroes_state(2)\n",
    "state = sim.apply_operation(state, qs[0])\n",
    "state"
   ]
  },
  {
   "cell_type": "code",
   "execution_count": 8,
   "id": "a6b97dcf-c47e-4801-a9fc-5aa604e19f9e",
   "metadata": {},
   "outputs": [
    {
     "name": "stdout",
     "output_type": "stream",
     "text": [
      "<Wires = [0, 1]>\n",
      "[[0.70710678+0.j         0.        +0.j        ]\n",
      " [0.        +0.j         0.        -0.70710678j]]\n"
     ]
    },
    {
     "data": {
      "text/plain": [
       "0.24506453586713678"
      ]
     },
     "execution_count": 8,
     "metadata": {},
     "output_type": "execute_result"
    }
   ],
   "source": [
    "sim.measure(state, qs.measurements[0])"
   ]
  },
  {
   "cell_type": "code",
   "execution_count": 9,
   "id": "19522a07-d1e1-4788-b2a2-acb67031099b",
   "metadata": {},
   "outputs": [],
   "source": [
    "dev2 = qml.device(\"default.qubit\", wires=2)\n",
    "\n",
    "@qml.qnode(dev2, diff_method=None)\n",
    "def circuit_mutual(x):\n",
    "    qml.IsingXX(x, wires=[0, 1])\n",
    "    return qml.state()\n",
    "    #return qml.mutual_info(wires0=[0], wires1=[1])\n",
    "\n",
    "state = circuit_mutual(np.pi/2)"
   ]
  },
  {
   "cell_type": "code",
   "execution_count": 10,
   "id": "dca74ba3-870a-4ad4-9cf6-7868a2f03e52",
   "metadata": {},
   "outputs": [],
   "source": [
    "m = qml.mutual_info(wires0=[0], wires1=[1])"
   ]
  },
  {
   "cell_type": "code",
   "execution_count": 11,
   "id": "9a3b5fc7-6403-4a75-a2e5-b76be318492f",
   "metadata": {},
   "outputs": [
    {
     "data": {
      "text/plain": [
       "1.3862943611198906"
      ]
     },
     "execution_count": 11,
     "metadata": {},
     "output_type": "execute_result"
    }
   ],
   "source": [
    "m.process_state(state, qml.wires.Wires((0,1)))"
   ]
  },
  {
   "cell_type": "code",
   "execution_count": null,
   "id": "c67e8a35-ee9d-4a65-818c-53cfea43903e",
   "metadata": {},
   "outputs": [],
   "source": []
  }
 ],
 "metadata": {
  "kernelspec": {
   "display_name": "Python 3.10.7 ('pl310')",
   "language": "python",
   "name": "python3107jvsc74a57bd0d7abcdde6cf588699ea141d5cb29fd40e22affd9f5aea5cda367ff961bc7685e"
  },
  "language_info": {
   "codemirror_mode": {
    "name": "ipython",
    "version": 3
   },
   "file_extension": ".py",
   "mimetype": "text/x-python",
   "name": "python",
   "nbconvert_exporter": "python",
   "pygments_lexer": "ipython3",
   "version": "3.10.7"
  }
 },
 "nbformat": 4,
 "nbformat_minor": 5
}
