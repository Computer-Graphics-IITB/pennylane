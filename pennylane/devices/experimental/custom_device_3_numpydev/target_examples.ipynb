{
 "cells": [
  {
   "cell_type": "code",
   "execution_count": 1,
   "id": "d7a7379f-627b-4a91-9262-e3e2da3109aa",
   "metadata": {},
   "outputs": [],
   "source": [
    "import pennylane as qml\n",
    "from pennylane import numpy as np\n",
    "from pennylane.devices.experimental import TestDevicePythonSim, AbstractDevice2"
   ]
  },
  {
   "cell_type": "code",
   "execution_count": 7,
   "id": "14550862-aeba-40fd-ba0b-4fa7aa236a87",
   "metadata": {},
   "outputs": [],
   "source": [
    "qml.enable_return()"
   ]
  },
  {
   "cell_type": "code",
   "execution_count": 8,
   "id": "ab8c8e5a-9505-457a-a752-a48e848abdfa",
   "metadata": {},
   "outputs": [],
   "source": [
    "dev = TestDevicePythonSim()"
   ]
  },
  {
   "cell_type": "code",
   "execution_count": 9,
   "id": "6b18aa57-f04c-4fc7-a2f3-c5676516af3c",
   "metadata": {},
   "outputs": [],
   "source": [
    "qs = qml.tape.QuantumScript(measurements=[qml.expval(qml.PauliX(0)), qml.probs(wires=(0,1))])"
   ]
  },
  {
   "cell_type": "code",
   "execution_count": 14,
   "id": "818f9ca0-7636-47ce-a865-ee9ca9c9f420",
   "metadata": {},
   "outputs": [],
   "source": [
    "dev._shot_vector = None\n",
    "dev.shot_vector = None"
   ]
  },
  {
   "cell_type": "code",
   "execution_count": 15,
   "id": "516f8277-69de-4edb-acae-d3a0a9234451",
   "metadata": {},
   "outputs": [
    {
     "data": {
      "text/plain": [
       "((), (4,))"
      ]
     },
     "execution_count": 15,
     "metadata": {},
     "output_type": "execute_result"
    }
   ],
   "source": [
    "qs.shape(dev)"
   ]
  },
  {
   "cell_type": "code",
   "execution_count": null,
   "id": "0c69f7a7-d080-4b7c-89d1-e230321c18d0",
   "metadata": {},
   "outputs": [],
   "source": []
  }
 ],
 "metadata": {
  "kernelspec": {
   "display_name": "Python 3.10.7 ('pl310')",
   "language": "python",
   "name": "python3107jvsc74a57bd0d7abcdde6cf588699ea141d5cb29fd40e22affd9f5aea5cda367ff961bc7685e"
  },
  "language_info": {
   "codemirror_mode": {
    "name": "ipython",
    "version": 3
   },
   "file_extension": ".py",
   "mimetype": "text/x-python",
   "name": "python",
   "nbconvert_exporter": "python",
   "pygments_lexer": "ipython3",
   "version": "3.10.7"
  }
 },
 "nbformat": 4,
 "nbformat_minor": 5
}
