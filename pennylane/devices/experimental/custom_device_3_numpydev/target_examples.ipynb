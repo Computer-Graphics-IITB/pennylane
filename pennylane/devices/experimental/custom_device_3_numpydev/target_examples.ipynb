{
 "cells": [
  {
   "cell_type": "code",
   "execution_count": 1,
   "id": "d7a7379f-627b-4a91-9262-e3e2da3109aa",
   "metadata": {},
   "outputs": [],
   "source": [
    "import pennylane as qml\n",
    "from pennylane import numpy as np\n",
    "from pennylane.devices.experimental import TestDevicePythonSim, PlainNumpySimulator"
   ]
  },
  {
   "cell_type": "code",
   "execution_count": 2,
   "id": "7edc7fb7-ecf6-42b9-a39b-6672940ec9d8",
   "metadata": {},
   "outputs": [],
   "source": [
    "from numpy import random\n",
    "rng = random.default_rng(seed=42)"
   ]
  },
  {
   "cell_type": "code",
   "execution_count": 3,
   "id": "58f611be-5996-485e-b19e-c1b77aba872c",
   "metadata": {},
   "outputs": [],
   "source": [
    "dev_old = qml.device('default.qubit', wires=2, shots=10)"
   ]
  },
  {
   "cell_type": "code",
   "execution_count": 4,
   "id": "fd33235a-5a62-4f53-87c7-6493f24815b7",
   "metadata": {},
   "outputs": [],
   "source": [
    "qs = qml.tape.QuantumScript([qml.Hadamard(0), qml.Hadamard(1)], [qml.sample()])"
   ]
  },
  {
   "cell_type": "code",
   "execution_count": 5,
   "id": "ba34bc30-acf1-4b79-851b-47323e97b0f2",
   "metadata": {},
   "outputs": [
    {
     "data": {
      "text/plain": [
       "array([[[1, 0],\n",
       "        [1, 0],\n",
       "        [0, 0],\n",
       "        [0, 1],\n",
       "        [0, 0],\n",
       "        [1, 0],\n",
       "        [1, 0],\n",
       "        [1, 0],\n",
       "        [1, 0],\n",
       "        [1, 1]]])"
      ]
     },
     "execution_count": 5,
     "metadata": {},
     "output_type": "execute_result"
    }
   ],
   "source": [
    "dev_old.execute(qs)"
   ]
  },
  {
   "cell_type": "code",
   "execution_count": 6,
   "id": "d08de9f1-ce83-4db3-86ca-5b77db90b37f",
   "metadata": {},
   "outputs": [
    {
     "data": {
      "text/plain": [
       "array([3, 0, 1, 3, 3, 3, 3, 2, 0, 1])"
      ]
     },
     "execution_count": 6,
     "metadata": {},
     "output_type": "execute_result"
    }
   ],
   "source": [
    "dev_old.sample_basis_states(4, dev_old.analytic_probability())"
   ]
  },
  {
   "cell_type": "code",
   "execution_count": 7,
   "id": "388a5440-4c68-4a9a-b85a-4b5e986b7b58",
   "metadata": {},
   "outputs": [],
   "source": [
    "sim = PlainNumpySimulator()"
   ]
  },
  {
   "cell_type": "code",
   "execution_count": 15,
   "id": "1803c015-ddad-4070-bfa0-c8ac99626338",
   "metadata": {},
   "outputs": [
    {
     "data": {
      "text/plain": [
       "array([[0.70710678+0.j, 0.        +0.j],\n",
       "       [0.        +0.j, 0.70710678+0.j]])"
      ]
     },
     "execution_count": 15,
     "metadata": {},
     "output_type": "execute_result"
    }
   ],
   "source": [
    "state = sim.create_zeroes_state(2)\n",
    "state = sim.apply_operation(state, qml.Hadamard(0))\n",
    "state = sim.apply_operation(state, qml.CNOT((0,1)))\n",
    "state "
   ]
  },
  {
   "cell_type": "code",
   "execution_count": 16,
   "id": "d412433e-7e5e-48d3-8689-979e30b0c2b3",
   "metadata": {},
   "outputs": [
    {
     "data": {
      "text/plain": [
       "array([[0.70710678+0.j, 0.        +0.j],\n",
       "       [0.        +0.j, 0.70710678+0.j]])"
      ]
     },
     "execution_count": 16,
     "metadata": {},
     "output_type": "execute_result"
    }
   ],
   "source": [
    "state"
   ]
  },
  {
   "cell_type": "code",
   "execution_count": 17,
   "id": "5ff28d3f-719f-426a-ba69-34af37df2569",
   "metadata": {},
   "outputs": [
    {
     "data": {
      "text/plain": [
       "array([[0, 0],\n",
       "       [1, 1],\n",
       "       [1, 1],\n",
       "       [0, 0],\n",
       "       [1, 1],\n",
       "       [1, 1],\n",
       "       [0, 0],\n",
       "       [0, 0],\n",
       "       [1, 1],\n",
       "       [0, 0]])"
      ]
     },
     "execution_count": 17,
     "metadata": {},
     "output_type": "execute_result"
    }
   ],
   "source": [
    "sim.generate_samples(state, rng, 10)"
   ]
  },
  {
   "cell_type": "code",
   "execution_count": null,
   "id": "ab8c8e5a-9505-457a-a752-a48e848abdfa",
   "metadata": {},
   "outputs": [],
   "source": []
  }
 ],
 "metadata": {
  "kernelspec": {
   "display_name": "Python 3.10.7 ('pl310')",
   "language": "python",
   "name": "python3107jvsc74a57bd0d7abcdde6cf588699ea141d5cb29fd40e22affd9f5aea5cda367ff961bc7685e"
  },
  "language_info": {
   "codemirror_mode": {
    "name": "ipython",
    "version": 3
   },
   "file_extension": ".py",
   "mimetype": "text/x-python",
   "name": "python",
   "nbconvert_exporter": "python",
   "pygments_lexer": "ipython3",
   "version": "3.10.7"
  }
 },
 "nbformat": 4,
 "nbformat_minor": 5
}
