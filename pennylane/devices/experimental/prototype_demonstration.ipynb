{
 "cells": [
  {
   "cell_type": "markdown",
   "id": "24d798e3-d9c8-4c81-9f96-2ee3ffc922db",
   "metadata": {},
   "source": [
    "# New Device API Prototype"
   ]
  },
  {
   "cell_type": "code",
   "execution_count": 1,
   "id": "cbbd1ab5-93f9-48ee-8aa3-31b8b713d43b",
   "metadata": {},
   "outputs": [],
   "source": [
    "import pennylane as qml\n",
    "from pennylane import numpy as np\n",
    "from pennylane.devices.experimental import TestDevicePythonSim"
   ]
  },
  {
   "cell_type": "markdown",
   "id": "9a1f9d20-a7d7-43f6-ab74-a6e8621174fa",
   "metadata": {},
   "source": [
    "Note: this only works with the new return types workflow:"
   ]
  },
  {
   "cell_type": "code",
   "execution_count": 2,
   "id": "c73429be-dd4c-4563-b5c1-33c727d7551c",
   "metadata": {},
   "outputs": [],
   "source": [
    "qml.enable_return()"
   ]
  },
  {
   "cell_type": "code",
   "execution_count": 3,
   "id": "a610bd8d-7796-47e5-b6f9-e9d57ec5c587",
   "metadata": {},
   "outputs": [],
   "source": [
    "dev = TestDevicePythonSim()"
   ]
  },
  {
   "cell_type": "markdown",
   "id": "ee8deb1a-39ee-41dd-9ae0-997b41595ad6",
   "metadata": {},
   "source": [
    "Add some attributes and properties to match existing required interface.\n",
    "\n",
    "We will have to adjust the existing workflow to accomodate these changes."
   ]
  },
  {
   "cell_type": "code",
   "execution_count": 4,
   "id": "2c06a785-da27-4d08-800b-c00514b2ae4b",
   "metadata": {},
   "outputs": [],
   "source": [
    "# map the execute function\n",
    "dev.batch_execute = dev.execute\n",
    "\n",
    "# map the preprocessing steps\n",
    "dev.batch_transform = dev.preprocess\n",
    "dev.expand_fn = lambda circuit, max_expansion: circuit\n",
    "\n",
    "# give dummy shots. We will be moving these out of the class\n",
    "dev.shots = None\n",
    "dev._shot_vector = []\n",
    "dev.shot_vector = None\n",
    "\n",
    "# short name needed for validation in one place\n",
    "dev.short_name = \"testpython\""
   ]
  },
  {
   "cell_type": "markdown",
   "id": "a3f1d911-9200-4ee2-9410-342174faaca3",
   "metadata": {},
   "source": [
    "The limited number of these demonstrates the disconnect between the number of methods in the base class and the number used for a typical workflow"
   ]
  },
  {
   "cell_type": "markdown",
   "id": "5b4dae0d-d0d7-4587-9c4d-5fb60d7ba714",
   "metadata": {},
   "source": [
    "## Examples of the prototype working"
   ]
  },
  {
   "cell_type": "markdown",
   "id": "dc1a30cd-b75f-4597-ae59-8f6acbcc417d",
   "metadata": {},
   "source": [
    "### Let's try a device gradient!"
   ]
  },
  {
   "cell_type": "code",
   "execution_count": 5,
   "id": "f7ff0ceb-d5ab-434a-814f-7341e00375ed",
   "metadata": {},
   "outputs": [],
   "source": [
    "@qml.qnode(dev, diff_method=\"device\")\n",
    "def circuit(a):\n",
    "    ops =[qml.RX(a[0], wires=0),\n",
    "    qml.CNOT(wires=(0,1)),\n",
    "    qml.RY(a[1], wires=1),\n",
    "    qml.RZ(a[2], wires=1)]\n",
    "    return qml.expval(qml.PauliX(1))\n",
    "\n",
    "x = qml.numpy.array([1.2, 2.3, 3.4])"
   ]
  },
  {
   "cell_type": "code",
   "execution_count": 6,
   "id": "2794d3c1-fb9f-4028-b9f7-2041e59529c1",
   "metadata": {},
   "outputs": [
    {
     "data": {
      "text/plain": [
       "[-0.26124053720169715]"
      ]
     },
     "execution_count": 6,
     "metadata": {},
     "output_type": "execute_result"
    }
   ],
   "source": [
    "circuit(x)"
   ]
  },
  {
   "cell_type": "code",
   "execution_count": 7,
   "id": "bcf18d59-0927-4939-bb6d-7ede86a876e6",
   "metadata": {},
   "outputs": [
    {
     "data": {
      "text/plain": [
       "array([0.67195027, 0.23341436, 0.06905029])"
      ]
     },
     "execution_count": 7,
     "metadata": {},
     "output_type": "execute_result"
    }
   ],
   "source": [
    "qml.grad(circuit)(x)"
   ]
  },
  {
   "cell_type": "markdown",
   "id": "d0c72698-0930-4a45-b144-e3b7c384c2aa",
   "metadata": {},
   "source": [
    "### Parameter Shift?"
   ]
  },
  {
   "cell_type": "code",
   "execution_count": 8,
   "id": "22119a7b-aa62-4512-9773-0976f13f2b7b",
   "metadata": {},
   "outputs": [],
   "source": [
    "@qml.qnode(dev, diff_method=qml.gradients.param_shift)\n",
    "def circuit(a):\n",
    "    ops =[qml.RX(a[0], wires=0),\n",
    "    qml.CNOT(wires=(0,1)),\n",
    "    qml.RY(a[1], wires=1),\n",
    "    qml.RZ(a[2], wires=1)]\n",
    "    return qml.expval(qml.PauliX(1))\n",
    "\n",
    "x = qml.numpy.array([1.2, 2.3, 3.4])"
   ]
  },
  {
   "cell_type": "code",
   "execution_count": 9,
   "id": "5eea9669-f10f-444a-baac-cb9f62ec4418",
   "metadata": {},
   "outputs": [
    {
     "data": {
      "text/plain": [
       "array([0.67195027, 0.23341436, 0.06905029])"
      ]
     },
     "execution_count": 9,
     "metadata": {},
     "output_type": "execute_result"
    }
   ],
   "source": [
    "qml.grad(circuit)(x)"
   ]
  },
  {
   "cell_type": "markdown",
   "id": "c4976a69-551f-455b-99fc-c1d043cc8f8a",
   "metadata": {},
   "source": [
    "### How about backprop with Jax jit?"
   ]
  },
  {
   "cell_type": "code",
   "execution_count": 10,
   "id": "f0da3618-86cb-461b-8518-56d4a73598cf",
   "metadata": {},
   "outputs": [],
   "source": [
    "import jax\n",
    "from jax import numpy as jnp"
   ]
  },
  {
   "cell_type": "code",
   "execution_count": 11,
   "id": "bf9ffc6a-8086-41bb-b05e-8919896b84af",
   "metadata": {},
   "outputs": [],
   "source": [
    "x = jnp.array([1.2, 2.3, 3.4])\n",
    "\n",
    "@jax.jit\n",
    "@qml.qnode(dev, interface=\"jax\", diff_method=\"backprop\")\n",
    "def circuit(a):\n",
    "    ops =[qml.RX(a[0], wires=0),\n",
    "    qml.CNOT(wires=(0,1)),\n",
    "    qml.RY(a[1], wires=1),\n",
    "    qml.RZ(a[2], wires=1)]\n",
    "    return qml.expval(qml.PauliX(1))"
   ]
  },
  {
   "cell_type": "code",
   "execution_count": 12,
   "id": "2019ac10-b6e8-4902-a211-b31e286ad09e",
   "metadata": {},
   "outputs": [
    {
     "name": "stderr",
     "output_type": "stream",
     "text": [
      "/Users/christina/Prog/pennylane/pennylane/devices/experimental/custom_device_3_numpydev/jax_simulator.py:51: UserWarning: Explicitly requested dtype <class 'jax.numpy.complex128'> requested in zeros is not available, and will be truncated to dtype complex64. To enable more dtypes, set the jax_enable_x64 configuration option or the JAX_ENABLE_X64 shell environment variable. See https://github.com/google/jax#current-gotchas for more.\n",
      "  state = np.zeros(2**num_indices, dtype=dtype)\n"
     ]
    },
    {
     "data": {
      "text/plain": [
       "[DeviceArray([0.6719504 , 0.23341438, 0.06905031], dtype=float32)]"
      ]
     },
     "execution_count": 12,
     "metadata": {},
     "output_type": "execute_result"
    }
   ],
   "source": [
    "jax.jacobian(circuit)(x)"
   ]
  },
  {
   "cell_type": "markdown",
   "id": "6603f183-005c-46db-b3dc-13d5d5d877c2",
   "metadata": {},
   "source": [
    "No substitution of device at QNode level!\n",
    "\n",
    "Device just dispatches to a different simulator."
   ]
  },
  {
   "cell_type": "code",
   "execution_count": 13,
   "id": "e6c8411b-e6cf-44ee-9437-2c9703bae394",
   "metadata": {},
   "outputs": [
    {
     "data": {
      "text/plain": [
       "True"
      ]
     },
     "execution_count": 13,
     "metadata": {},
     "output_type": "execute_result"
    }
   ],
   "source": [
    "circuit.device is dev"
   ]
  },
  {
   "cell_type": "code",
   "execution_count": 14,
   "id": "6d260fd4-abe9-42aa-9732-54893cd1d233",
   "metadata": {},
   "outputs": [
    {
     "data": {
      "text/plain": [
       "[1.3862943611198906]"
      ]
     },
     "execution_count": 14,
     "metadata": {},
     "output_type": "execute_result"
    }
   ],
   "source": [
    "@qml.qnode(dev, diff_method=None)\n",
    "def circuit_mutual(x):\n",
    "    qml.IsingXX(x, wires=[0, 1])\n",
    "    return qml.mutual_info(wires0=[0], wires1=[1])\n",
    "\n",
    "circuit_mutual(np.pi/2)"
   ]
  },
  {
   "cell_type": "markdown",
   "id": "ca67e251-5f0d-4375-85a3-78ef234a7b76",
   "metadata": {},
   "source": [
    "## Device Tracking"
   ]
  },
  {
   "cell_type": "code",
   "execution_count": 15,
   "id": "5bf965e2-a33e-4c6c-82ce-3f35fe7c413a",
   "metadata": {},
   "outputs": [],
   "source": [
    "@qml.qnode(dev, diff_method=\"device\")\n",
    "def circuit(a):\n",
    "    ops =[qml.RX(a[0], wires=0),\n",
    "    qml.CNOT(wires=(0,1)),\n",
    "    qml.RY(a[1], wires=1),\n",
    "    qml.RZ(a[2], wires=1)]\n",
    "    return qml.expval(qml.PauliX(1))\n",
    "\n",
    "x = qml.numpy.array([1.2, 2.3, 3.4])"
   ]
  },
  {
   "cell_type": "code",
   "execution_count": 16,
   "id": "8fe83aa8-a9ce-4c6a-b13b-08129cad3cb5",
   "metadata": {},
   "outputs": [
    {
     "name": "stdout",
     "output_type": "stream",
     "text": [
      "Totals:  {'batches': 1, 'batch_len': 1}\n",
      "Totals:  {'batches': 1, 'batch_len': 1, 'executions': 1, 'results': -0.26124053720169715}\n",
      "Totals:  {'batches': 1, 'batch_len': 1, 'executions': 1, 'results': -0.26124053720169715, 'gradients': 1}\n",
      "Totals:  {'batches': 2, 'batch_len': 2, 'executions': 1, 'results': -0.26124053720169715, 'gradients': 1}\n",
      "Totals:  {'batches': 2, 'batch_len': 2, 'executions': 2, 'results': -0.5224810744033943, 'gradients': 1}\n",
      "Totals:  {'batches': 2, 'batch_len': 2, 'executions': 2, 'results': -0.5224810744033943, 'gradients': 2}\n"
     ]
    }
   ],
   "source": [
    "def callback(totals=None, history=None, latest=None):\n",
    "    print(\"Totals: \", totals)\n",
    "\n",
    "with qml.Tracker(dev, callback=callback) as tracker:\n",
    "    circuit(x)\n",
    "    qml.grad(circuit)(x)"
   ]
  },
  {
   "cell_type": "markdown",
   "id": "7d790288-dfa7-4f18-8f12-9bf514478bba",
   "metadata": {},
   "source": [
    "## Some nice things we can now do with simulators"
   ]
  },
  {
   "cell_type": "markdown",
   "id": "2bb1ee93-cc34-4ae6-844c-d724dd4223ce",
   "metadata": {
    "tags": []
   },
   "source": [
    "### More complicated measurement processes?\n",
    "\n",
    "Simulator can just use the `StateMeasurement.process_state` method."
   ]
  },
  {
   "cell_type": "code",
   "execution_count": 17,
   "id": "51dfb70f-3ce2-417c-b1e5-5627dde0cbd2",
   "metadata": {},
   "outputs": [
    {
     "data": {
      "text/plain": [
       "[1.2519553154145866]"
      ]
     },
     "execution_count": 17,
     "metadata": {},
     "output_type": "execute_result"
    }
   ],
   "source": [
    "@qml.qnode(dev, diff_method=None)\n",
    "def circuit(x):\n",
    "    qml.IsingXX(x, wires=(0,1))\n",
    "    return qml.mutual_info(wires0=[0], wires1=[1])\n",
    "\n",
    "circuit(1.2)"
   ]
  },
  {
   "cell_type": "markdown",
   "id": "47972818-e4db-41cf-a2e0-0454a71247da",
   "metadata": {
    "tags": []
   },
   "source": [
    "### Native execution of non-commuting observables?\n",
    "\n",
    "Easily handled at the simulator level.\n",
    "\n",
    "Diagonalizing gates are handled when taking a measurement, not when executing the circuit"
   ]
  },
  {
   "cell_type": "code",
   "execution_count": 18,
   "id": "bf5ccfb6-656a-442b-8e0d-8a4da5d51226",
   "metadata": {},
   "outputs": [
    {
     "name": "stdout",
     "output_type": "stream",
     "text": [
      "Execution:  [(0.0, 0.36235775447667357)]\n"
     ]
    },
    {
     "data": {
      "text/plain": [
       "1"
      ]
     },
     "execution_count": 18,
     "metadata": {},
     "output_type": "execute_result"
    }
   ],
   "source": [
    "@qml.qnode(dev, diff_method=None)\n",
    "def circuit(a):\n",
    "    qml.RX(a, 0)\n",
    "    return qml.expval(qml.PauliX(0)), qml.expval(qml.PauliZ(0))\n",
    "\n",
    "with qml.Tracker(dev) as tracker:\n",
    "    print(\"Execution: \", circuit(1.2))\n",
    "    \n",
    "tracker.totals['executions']"
   ]
  },
  {
   "cell_type": "markdown",
   "id": "47da1e43-a70d-4716-8f7b-b4abc8049ac0",
   "metadata": {},
   "source": [
    "## Arbitrary wire labels?"
   ]
  },
  {
   "cell_type": "code",
   "execution_count": 19,
   "id": "c08fe559-46d2-4b02-9730-374e01a692fe",
   "metadata": {},
   "outputs": [
    {
     "data": {
      "text/plain": [
       "[0.36235775447667357]"
      ]
     },
     "execution_count": 19,
     "metadata": {},
     "output_type": "execute_result"
    }
   ],
   "source": [
    "@qml.qnode(dev)\n",
    "def circuit(a):\n",
    "    qml.RX(a, \"a\")\n",
    "    return qml.expval(qml.PauliZ(\"a\"))\n",
    "\n",
    "circuit(1.2)"
   ]
  },
  {
   "cell_type": "markdown",
   "id": "2e1d78fb-cfb4-43c1-bb78-eb8236a21bf2",
   "metadata": {},
   "source": [
    "Preprocessing can map wires to adjacent integers starting from zero. Then simulators can just\n",
    "treat wire labels as indices!\n",
    "\n",
    "Makes the simulators job eaiser. This mapping could also occur in \"internal preprocessing\""
   ]
  },
  {
   "cell_type": "code",
   "execution_count": 20,
   "id": "c000d9a8-2558-4bdd-93eb-0f1ae84a3075",
   "metadata": {},
   "outputs": [
    {
     "data": {
      "text/plain": [
       "[PauliX(wires=[0]), PauliY(wires=[1])]"
      ]
     },
     "execution_count": 20,
     "metadata": {},
     "output_type": "execute_result"
    }
   ],
   "source": [
    "qs = qml.tape.QuantumScript([qml.PauliX(\"a\"), qml.PauliY(10)])\n",
    "qbatch, post_processing_fn = dev.preprocess(qs)\n",
    "qbatch[0].circuit"
   ]
  },
  {
   "cell_type": "markdown",
   "id": "c488b282-1c6d-4b46-bdca-62e840d91a8f",
   "metadata": {
    "tags": []
   },
   "source": [
    "# Preprocessing of Script"
   ]
  },
  {
   "cell_type": "code",
   "execution_count": 21,
   "id": "3fab7526-f3ee-44ea-9e11-5ce641204096",
   "metadata": {},
   "outputs": [],
   "source": [
    "@qml.qnode(dev, diff_method=None)\n",
    "def circuit(params):\n",
    "    qml.StronglyEntanglingLayers(params, wires=(0,1,2,3))\n",
    "    return qml.expval(qml.PauliZ(3))"
   ]
  },
  {
   "cell_type": "code",
   "execution_count": 22,
   "id": "9713ee44-5704-4ac7-ba69-2468789cd4ae",
   "metadata": {},
   "outputs": [],
   "source": [
    "n_layers = 4\n",
    "shape = qml.StronglyEntanglingLayers.shape(n_layers=n_layers, n_wires=4)\n",
    "\n",
    "rng = np.random.default_rng(seed=42)\n",
    "params = rng.random(shape)"
   ]
  },
  {
   "cell_type": "code",
   "execution_count": 23,
   "id": "46b1266c-6106-4d26-99ae-7eb98560da7c",
   "metadata": {},
   "outputs": [
    {
     "data": {
      "text/plain": [
       "[0.246704388316073]"
      ]
     },
     "execution_count": 23,
     "metadata": {},
     "output_type": "execute_result"
    }
   ],
   "source": [
    "circuit(params)"
   ]
  },
  {
   "cell_type": "markdown",
   "id": "e6d0f434-7b0c-40d1-850e-b49d596191eb",
   "metadata": {},
   "source": [
    "Preprocessing expands till it reaches supported operations"
   ]
  },
  {
   "cell_type": "code",
   "execution_count": 24,
   "id": "53f3c980-c9ba-46c6-8a20-74b5f5e2cc08",
   "metadata": {},
   "outputs": [
    {
     "name": "stdout",
     "output_type": "stream",
     "text": [
      "0: ──Rot─╭●───────╭X──Rot─╭●────╭X──Rot──────╭●─╭X──Rot──────╭●─────────╭X─┤     \n",
      "1: ──Rot─╰X─╭●────│───Rot─│──╭●─│──╭X────Rot─│──╰●─╭X────Rot─╰X───╭●────│──┤     \n",
      "2: ──Rot────╰X─╭●─│───Rot─╰X─│──╰●─│─────Rot─│─────╰●───╭X────Rot─╰X─╭●─│──┤     \n",
      "3: ──Rot───────╰X─╰●──Rot────╰X────╰●────Rot─╰X─────────╰●────Rot────╰X─╰●─┤  <Z>\n"
     ]
    }
   ],
   "source": [
    "batched_qs, post_process_fn = dev.preprocess(circuit.tape)\n",
    "\n",
    "print(qml.drawer.tape_text(batched_qs[0]))"
   ]
  },
  {
   "cell_type": "markdown",
   "id": "f4a812c8-411b-4a6a-bc05-98703f551bd1",
   "metadata": {
    "tags": []
   },
   "source": [
    "## Unsupportable Quantum Script?"
   ]
  },
  {
   "cell_type": "code",
   "execution_count": 25,
   "id": "53c2ce04-e06e-4afb-8f9b-21b51ee8f005",
   "metadata": {},
   "outputs": [
    {
     "name": "stdout",
     "output_type": "stream",
     "text": [
      "Exception reporting mode: Minimal\n"
     ]
    },
    {
     "ename": "NotImplementedError",
     "evalue": "Beamsplitter(1.2, 2.3, wires=[0, 1]) not supported on device",
     "output_type": "error",
     "traceback": [
      "\u001b[0;31mNotImplementedError\u001b[0m\u001b[0;31m:\u001b[0m Beamsplitter(1.2, 2.3, wires=[0, 1]) not supported on device\n"
     ]
    }
   ],
   "source": [
    "%xmode Minimal\n",
    "\n",
    "@qml.qnode(dev, diff_method=None)\n",
    "def circuit(theta, phi):\n",
    "    qml.Beamsplitter(theta, phi, wires=(0,1))\n",
    "    return qml.expval(qml.PauliX(0))\n",
    "\n",
    "circuit(1.2, 2.3)\n"
   ]
  },
  {
   "cell_type": "markdown",
   "id": "c3727bf7-b9a7-40dd-ae8a-36dc3c520c37",
   "metadata": {},
   "source": [
    "Allows additional forms of validation:"
   ]
  },
  {
   "cell_type": "code",
   "execution_count": 26,
   "id": "e7295ebd-1ba2-41e5-a6a0-49a0721b11ae",
   "metadata": {},
   "outputs": [
    {
     "name": "stdout",
     "output_type": "stream",
     "text": [
      "Exception reporting mode: Minimal\n"
     ]
    },
    {
     "ename": "NotImplementedError",
     "evalue": "Requested execution with 50 qubits. We support at most 30.",
     "output_type": "error",
     "traceback": [
      "\u001b[0;31mNotImplementedError\u001b[0m\u001b[0;31m:\u001b[0m Requested execution with 50 qubits. We support at most 30.\n"
     ]
    }
   ],
   "source": [
    "%xmode Minimal\n",
    "\n",
    "@qml.qnode(dev)\n",
    "def circuit():\n",
    "    [qml.PauliX(i) for i in range(50)]\n",
    "    return qml.expval(qml.PauliX(0))\n",
    "\n",
    "circuit()"
   ]
  },
  {
   "cell_type": "markdown",
   "id": "9107f826-1914-4b8e-9fd8-40e9a1c19442",
   "metadata": {
    "tags": []
   },
   "source": [
    "# What does this look like internally?"
   ]
  },
  {
   "cell_type": "markdown",
   "id": "7481e053-91ae-43e6-9f45-a78a1751a9b1",
   "metadata": {
    "tags": []
   },
   "source": [
    "### Separation of driver from interface"
   ]
  },
  {
   "cell_type": "markdown",
   "id": "089ebd0a-41da-4abe-9bb1-46fb704fa0b0",
   "metadata": {},
   "source": [
    "Device is just the interface.  Implementation details, like simulators or hardware drivers, can be handled in an additional level of abstraction:"
   ]
  },
  {
   "cell_type": "code",
   "execution_count": 27,
   "id": "4322d12f-a5bf-4d63-b466-6c3368fa7d12",
   "metadata": {},
   "outputs": [],
   "source": [
    "from pennylane.devices.experimental import PlainNumpySimulator, JaxSimulator"
   ]
  },
  {
   "cell_type": "code",
   "execution_count": 28,
   "id": "3356a4df-fb90-412d-9b99-0a4844fdd1d3",
   "metadata": {},
   "outputs": [],
   "source": [
    "jax_sim = JaxSimulator()"
   ]
  },
  {
   "cell_type": "code",
   "execution_count": 29,
   "id": "90bc3358-afb5-46bf-85ff-ad2aa2bf5963",
   "metadata": {},
   "outputs": [
    {
     "data": {
      "text/plain": [
       "['apply_matrix',\n",
       " 'apply_matrix_einsum',\n",
       " 'apply_matrix_tensordot',\n",
       " 'apply_operation',\n",
       " 'create_state_vector_state',\n",
       " 'create_zeroes_state',\n",
       " 'execute',\n",
       " 'measure']"
      ]
     },
     "execution_count": 29,
     "metadata": {},
     "output_type": "execute_result"
    }
   ],
   "source": [
    "[obj for obj in dir(jax_sim) if obj[0] != \"_\"]"
   ]
  },
  {
   "cell_type": "markdown",
   "id": "c5ced962-b7c1-4e8d-a2ff-6dd893424fd4",
   "metadata": {},
   "source": [
    "Improves the documentation and ease of developement for the simulator."
   ]
  },
  {
   "cell_type": "code",
   "execution_count": 30,
   "id": "8756a726-1538-439f-9202-41d8f74d8d11",
   "metadata": {},
   "outputs": [
    {
     "name": "stdout",
     "output_type": "stream",
     "text": [
      "[1.+0.j 0.+0.j]\n",
      "[0.+0.j 1.+0.j]\n",
      "-1.0\n"
     ]
    }
   ],
   "source": [
    "state = jax_sim.create_zeroes_state(1)\n",
    "print(state)\n",
    "state = jax_sim.apply_operation(state, qml.PauliX(0))\n",
    "print(state)\n",
    "output = jax_sim.measure(state, qml.expval(qml.PauliZ(0)))\n",
    "print(output)"
   ]
  },
  {
   "cell_type": "markdown",
   "id": "4b1e92a0-0c8f-4645-b8cc-6ceff97bbc85",
   "metadata": {},
   "source": [
    "## Required device Interface"
   ]
  },
  {
   "cell_type": "code",
   "execution_count": 31,
   "id": "72397204-ee1b-4643-aa3a-97e6b6fc3ace",
   "metadata": {},
   "outputs": [
    {
     "data": {
      "text/plain": [
       "['capabilities',\n",
       " 'execute',\n",
       " 'execute_and_gradients',\n",
       " 'gradient',\n",
       " 'preprocess',\n",
       " 'register_execute',\n",
       " 'register_fn',\n",
       " 'register_gradient',\n",
       " 'registrations',\n",
       " 'tracker',\n",
       " 'vjp']"
      ]
     },
     "execution_count": 31,
     "metadata": {},
     "output_type": "execute_result"
    }
   ],
   "source": [
    "fresh_dev = TestDevicePythonSim()\n",
    "\n",
    "[obj for obj in dir(fresh_dev) if obj[0] != \"_\"]"
   ]
  },
  {
   "cell_type": "markdown",
   "id": "aad454b9-d33d-4939-a721-0c12c8efa3e4",
   "metadata": {},
   "source": [
    "# Takeaways\n",
    "\n",
    "The abstract base class will only define a minimal interface required to interact with PennyLane Core.\n",
    "\n",
    "ABC will not define any implementation.\n",
    "\n",
    "We can separate out \"device\" from \"single device controller\".  Need to define names and definitions for these things.\n",
    "\n",
    "Need tight specification for return shapes. Both make it easy to get things into that right shape, and easy to validate and correct when the return shape is incorrect.\n",
    "\n"
   ]
  },
  {
   "cell_type": "markdown",
   "id": "b35571e6-4f18-4382-bb0a-68e48e88cd51",
   "metadata": {
    "jp-MarkdownHeadingCollapsed": true,
    "tags": []
   },
   "source": [
    "## Execution Config\n",
    "\n",
    "Getting the workflow to support this will be work."
   ]
  },
  {
   "cell_type": "code",
   "execution_count": null,
   "id": "e2db667a-e6ad-4ad4-bbb7-0dd11d2e7ff2",
   "metadata": {},
   "outputs": [],
   "source": [
    "from pennylane.runtime import ExecutionConfig"
   ]
  },
  {
   "cell_type": "code",
   "execution_count": null,
   "id": "abd674e3-541f-4695-b184-d66045ddbf67",
   "metadata": {},
   "outputs": [],
   "source": [
    "config = ExecutionConfig(shots=100, interface=\"jax\")\n",
    "config"
   ]
  },
  {
   "cell_type": "code",
   "execution_count": null,
   "id": "192abe01-1e25-4d72-845f-9984f9307409",
   "metadata": {},
   "outputs": [],
   "source": [
    "dev.execute(qs, config)"
   ]
  },
  {
   "cell_type": "markdown",
   "id": "282c6844-dd31-4ac2-858c-4a70444f32c7",
   "metadata": {
    "tags": []
   },
   "source": [
    "## Registrations"
   ]
  },
  {
   "cell_type": "code",
   "execution_count": 32,
   "id": "b3e9b1ae-e136-4587-80f4-7fe9bf9c0f53",
   "metadata": {},
   "outputs": [
    {
     "data": {
      "text/plain": [
       "{<FnType.GRADIENT: 4>: {1: <function pennylane.devices.experimental.custom_device_3_numpydev.python_device.gradient(self, qscript: pennylane.tape.qscript.QuantumScript, order: int = 1)>}}"
      ]
     },
     "execution_count": 32,
     "metadata": {},
     "output_type": "execute_result"
    }
   ],
   "source": [
    "fresh_dev.registrations"
   ]
  },
  {
   "cell_type": "code",
   "execution_count": 33,
   "id": "2bf88d83-ed9f-4b94-9e49-cfc4784763fe",
   "metadata": {},
   "outputs": [
    {
     "name": "stdout",
     "output_type": "stream",
     "text": [
      "look! I'm computing the hessian!\n"
     ]
    },
    {
     "ename": "ValueError",
     "evalue": "Device does not support 3 order derivatives",
     "output_type": "error",
     "traceback": [
      "\u001b[0;31mValueError\u001b[0m\u001b[0;31m:\u001b[0m Device does not support 3 order derivatives\n"
     ]
    }
   ],
   "source": [
    "@TestDevicePythonSim.register_gradient(order=2)\n",
    "def hessian(self, qscript, order: int = 2):\n",
    "    print(\"look! I'm computing the hessian!\")\n",
    "\n",
    "fresh_dev2 = TestDevicePythonSim()\n",
    "qs = qml.tape.QuantumScript([qml.RX(1.2, wires=0)], [qml.expval(qml.PauliZ(0))])\n",
    "\n",
    "fresh_dev2.gradient(qs, order=2)\n",
    "fresh_dev2.gradient(qs, order=3)"
   ]
  },
  {
   "cell_type": "code",
   "execution_count": null,
   "id": "bb5ecae9-2027-4208-898a-31dd629fda30",
   "metadata": {},
   "outputs": [],
   "source": [
    "fresh_dev2.registrations[qml.devices.experimental.FnType.GRADIENT]"
   ]
  },
  {
   "cell_type": "code",
   "execution_count": null,
   "id": "836bb3fc-dfc7-436f-babf-96a24fdb248b",
   "metadata": {},
   "outputs": [],
   "source": []
  }
 ],
 "metadata": {
  "kernelspec": {
   "display_name": "Python 3.10.7 ('pl310')",
   "language": "python",
   "name": "python3107jvsc74a57bd0d7abcdde6cf588699ea141d5cb29fd40e22affd9f5aea5cda367ff961bc7685e"
  },
  "language_info": {
   "codemirror_mode": {
    "name": "ipython",
    "version": 3
   },
   "file_extension": ".py",
   "mimetype": "text/x-python",
   "name": "python",
   "nbconvert_exporter": "python",
   "pygments_lexer": "ipython3",
   "version": "3.10.7"
  }
 },
 "nbformat": 4,
 "nbformat_minor": 5
}
